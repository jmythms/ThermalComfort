{
  "nbformat": 4,
  "nbformat_minor": 0,
  "metadata": {
    "colab": {
      "name": "Test for imputation",
      "provenance": [],
      "collapsed_sections": [],
      "toc_visible": true,
      "include_colab_link": true
    },
    "kernelspec": {
      "name": "python3",
      "display_name": "Python 3"
    },
    "accelerator": "GPU"
  },
  "cells": [
    {
      "cell_type": "markdown",
      "metadata": {
        "id": "view-in-github",
        "colab_type": "text"
      },
      "source": [
        "<a href=\"https://colab.research.google.com/github/jmythms/ThermalComfort/blob/master/Test_for_imputation.ipynb\" target=\"_parent\"><img src=\"https://colab.research.google.com/assets/colab-badge.svg\" alt=\"Open In Colab\"/></a>"
      ]
    },
    {
      "cell_type": "markdown",
      "metadata": {
        "id": "vL28sekjLhAs",
        "colab_type": "text"
      },
      "source": [
        "# This notebook is meant to be run on Google Colab. \n",
        "\n",
        "Click on the \"open in Colab\" button if you are in Github. \n",
        "\n",
        "Then upload the DBII.csv. \n",
        "\n",
        "Then press (ctrl/cmd + F9) to run all cells. "
      ]
    },
    {
      "cell_type": "code",
      "metadata": {
        "id": "6j0ba2PQAPgJ",
        "colab_type": "code",
        "outputId": "37a7ac93-5926-4ebc-916d-b623ecc2ac03",
        "colab": {
          "base_uri": "https://localhost:8080/",
          "height": 51
        }
      },
      "source": [
        "# activate R magic, Allows using R in the Notebook, put %%R to make that \n",
        "# cell an R script\n",
        "\n",
        "%load_ext rpy2.ipython"
      ],
      "execution_count": 77,
      "outputs": [
        {
          "output_type": "stream",
          "text": [
            "The rpy2.ipython extension is already loaded. To reload it, use:\n",
            "  %reload_ext rpy2.ipython\n"
          ],
          "name": "stdout"
        }
      ]
    },
    {
      "cell_type": "markdown",
      "metadata": {
        "id": "Mu01HdNOdwJB",
        "colab_type": "text"
      },
      "source": [
        "# Logistic regression with the TC DB II"
      ]
    },
    {
      "cell_type": "markdown",
      "metadata": {
        "id": "bW8-pa099jIq",
        "colab_type": "text"
      },
      "source": [
        "## Perfer Cooler Classifier\n",
        "\n",
        "Any comments you find here also apply to the prefer warmer classifier code following this. "
      ]
    },
    {
      "cell_type": "code",
      "metadata": {
        "id": "eO00jrD8udNo",
        "colab_type": "code",
        "colab": {}
      },
      "source": [
        "#Python Imports\n",
        "\n",
        "#It's not great to import everything all the time, as it can make your program slower,\n",
        "#But I don't care much since this system has enough memory, enough CPU power and \n",
        "# I can call all the functions I want without having to import them again. \n",
        "\n",
        "from __future__ import print_function\n",
        "\n",
        "import math\n",
        "\n",
        "from IPython import display\n",
        "from matplotlib import cm\n",
        "from matplotlib import gridspec\n",
        "from matplotlib import pyplot as plt\n",
        "import numpy as np\n",
        "import pandas as pd\n",
        "from sklearn import metrics\n",
        "import tensorflow as tf\n",
        "from tensorflow.python.data import Dataset\n",
        "from sklearn.preprocessing import LabelEncoder, OneHotEncoder\n",
        "from sklearn.linear_model import LogisticRegression\n",
        "from sklearn.model_selection import train_test_split\n",
        "from sklearn import datasets \n",
        "from sklearn.metrics import confusion_matrix \n",
        "from sklearn.model_selection import train_test_split \n",
        "from sklearn.svm import SVC \n",
        "from sklearn.neighbors import KNeighborsClassifier \n",
        "from sklearn.naive_bayes import GaussianNB \n",
        "from sklearn.tree import DecisionTreeClassifier \n",
        "from IPython.core.interactiveshell import InteractiveShell\n",
        "from sklearn.utils.multiclass import unique_labels\n",
        "import matplotlib.ticker as ticker\n",
        "import os, os.path\n",
        "import seaborn as sns\n",
        "import numpy as np\n",
        "# from uncertain_panda import pandas as pd #helps calculate uncertainity in pandas calculations\n",
        "import pandas_profiling as pp\n",
        "from google.colab import files\n",
        "import datetime"
      ],
      "execution_count": 0,
      "outputs": []
    },
    {
      "cell_type": "code",
      "metadata": {
        "id": "nrbeQLnRESob",
        "colab_type": "code",
        "colab": {}
      },
      "source": [
        "# Allows plotting matplotlib plots in the same script\n",
        "\n",
        "%matplotlib inline  \n",
        "pd.set_option('display.max_colwidth', -1)"
      ],
      "execution_count": 0,
      "outputs": []
    },
    {
      "cell_type": "code",
      "metadata": {
        "id": "9yRVKWf1d52Y",
        "colab_type": "code",
        "outputId": "ab46bbc2-0da7-4d01-f660-1ddf2009fe60",
        "colab": {
          "base_uri": "https://localhost:8080/",
          "height": 1000
        }
      },
      "source": [
        "# Loads the (untouched) TC DB II csv to an R dataframe\n",
        "%%R\n",
        "\n",
        "TCDBII = read.csv(\"DBII.csv\", fileEncoding=\"latin1\")\n",
        "\n",
        "str(TCDBII)  #Gives a small summary of your dataframe"
      ],
      "execution_count": 80,
      "outputs": [
        {
          "output_type": "display_data",
          "data": {
            "text/plain": [
              "'data.frame':\t30286 obs. of  66 variables:\n",
              " $ Publication..Citation.              : Factor w/ 29 levels \"\",\"Andamon, Mary Myla. \\\"Thermal comfort and building energy consumption in the Philippine context.\\\" PLEA 2006-Th\"| __truncated__,..: 20 20 20 20 20 20 20 20 20 20 ...\n",
              " $ Data.contributor                    : Factor w/ 28 levels \"Alison Kwok\",..: 18 18 18 18 18 18 18 18 18 18 ...\n",
              " $ Year                                : int  2000 2000 2000 2000 2000 2000 2000 2000 2000 2000 ...\n",
              " $ Season                              : Factor w/ 5 levels \"\",\"Autumn\",\"Spring\",..: 4 4 4 4 4 4 4 4 4 4 ...\n",
              " $ Climate                             : Factor w/ 15 levels \"Cold semi-arid\",..: 6 6 6 6 6 6 6 6 6 6 ...\n",
              " $ City                                : Factor w/ 45 levels \"Athens\",\"Auburn\",..: 42 42 42 42 42 42 42 42 42 42 ...\n",
              " $ Country                             : Factor w/ 18 levels \"Australia\",\"Brazil\",..: 9 9 9 9 9 9 9 9 9 9 ...\n",
              " $ Building.type                       : Factor w/ 4 levels \"Classroom\",\"Multifamily housing\",..: 1 1 1 1 1 1 1 1 1 1 ...\n",
              " $ Cooling.strategy                    : Factor w/ 1 level \"Air Conditioned\": 1 1 1 1 1 1 1 1 1 1 ...\n",
              " $ Age                                 : int  15 15 15 14 15 14 15 15 14 13 ...\n",
              " $ Sex                                 : Factor w/ 3 levels \"\",\"Female\",\"Male\": 2 2 3 2 3 2 3 2 2 3 ...\n",
              " $ Thermal.sensation                   : num  -0.5 -2.1 0.5 -2.5 -0.5 1 -1 -1.5 -3 NA ...\n",
              " $ Thermal.sensation.acceptability     : int  1 1 1 0 1 1 1 1 0 1 ...\n",
              " $ Thermal.preference                  : Factor w/ 4 levels \"\",\"cooler\",\"no change\",..: 4 3 3 3 3 3 3 3 2 3 ...\n",
              " $ Air.movement.acceptability          : int  1 1 1 1 1 0 1 1 1 1 ...\n",
              " $ Air.movement.preference             : Factor w/ 4 levels \"\",\"less\",\"more\",..: 4 4 3 2 4 4 4 4 4 3 ...\n",
              " $ Thermal.comfort                     : num  5 5 6 4 6 1 5 4 3 5 ...\n",
              " $ PMV                                 : num  NA NA NA NA NA NA NA NA NA NA ...\n",
              " $ PPD                                 : num  NA NA NA NA NA NA NA NA NA NA ...\n",
              " $ SET                                 : num  NA NA NA NA NA NA NA NA NA NA ...\n",
              " $ Clo                                 : num  0.25 0.25 0.27 0.23 0.34 0.23 0.27 0.43 0.3 0.27 ...\n",
              " $ Met                                 : num  NA NA NA NA NA NA NA NA NA NA ...\n",
              " $ activity_10                         : num  NA NA NA NA NA NA NA NA NA NA ...\n",
              " $ activity_20                         : num  NA NA NA NA NA NA NA NA NA NA ...\n",
              " $ acitivity_30                        : num  NA NA NA NA NA NA NA NA NA NA ...\n",
              " $ activity_60                         : num  NA NA NA NA NA NA NA NA NA NA ...\n",
              " $ Air.temperature...C.                : num  24.2 24.2 24.2 24.2 24.2 24.2 24.2 24.2 24.2 24.2 ...\n",
              " $ Air.temperature...F.                : num  75.6 75.6 75.6 75.6 75.6 75.6 75.6 75.6 75.6 75.6 ...\n",
              " $ Ta_h...C.                           : num  24.2 24.2 24.2 24.2 24.2 24.2 24.2 24.2 24.2 24.2 ...\n",
              " $ Ta_h...F.                           : num  75.6 75.6 75.6 75.6 75.6 75.6 75.6 75.6 75.6 75.6 ...\n",
              " $ Ta_m...C.                           : num  NA NA NA NA NA NA NA NA NA NA ...\n",
              " $ Ta_m...F.                           : num  NA NA NA NA NA NA NA NA NA NA ...\n",
              " $ Ta_l...C.                           : num  NA NA NA NA NA NA NA NA NA NA ...\n",
              " $ Ta_l...F.                           : num  NA NA NA NA NA NA NA NA NA NA ...\n",
              " $ Operative.temperature...C.          : num  NA NA NA NA NA NA NA NA NA NA ...\n",
              " $ Operative.temperature...F.          : num  NA NA NA NA NA NA NA NA NA NA ...\n",
              " $ Radiant.temperature...C.            : num  NA NA NA NA NA NA NA NA NA NA ...\n",
              " $ Radiant.temperature...F.            : num  NA NA NA NA NA NA NA NA NA NA ...\n",
              " $ Globe.temperature...C.              : num  24 24 24 24 24 24 24 24 24 24 ...\n",
              " $ Globe.temperature...F.              : num  75.2 75.2 75.2 75.2 75.2 75.2 75.2 75.2 75.2 75.2 ...\n",
              " $ Tg_h...C.                           : num  24 24 24 24 24 24 24 24 24 24 ...\n",
              " $ Tg_h...F.                           : num  75.2 75.2 75.2 75.2 75.2 75.2 75.2 75.2 75.2 75.2 ...\n",
              " $ Tg_m...C.                           : num  NA NA NA NA NA NA NA NA NA NA ...\n",
              " $ Tg_m...F.                           : num  NA NA NA NA NA NA NA NA NA NA ...\n",
              " $ Tg_l...C.                           : num  NA NA NA NA NA NA NA NA NA NA ...\n",
              " $ Tg_l...F.                           : num  NA NA NA NA NA NA NA NA NA NA ...\n",
              " $ Relative.humidity....               : num  50.2 50.2 50.2 50.2 50.2 50.2 50.2 50.2 50.2 50.2 ...\n",
              " $ Humidity.preference                 : Factor w/ 4 levels \"\",\"drier\",\"more humid\",..: 1 1 1 1 1 1 1 1 1 1 ...\n",
              " $ Humidity.sensation                  : int  NA NA NA NA NA NA NA NA NA NA ...\n",
              " $ Air.velocity..m.s.                  : num  0.06 0.06 0.06 0.06 0.06 0.06 0.06 0.06 0.06 0.06 ...\n",
              " $ Air.velocity..fpm.                  : num  11.8 11.8 11.8 11.8 11.8 ...\n",
              " $ Velocity_h..m.s.                    : num  NA NA NA NA NA NA NA NA NA NA ...\n",
              " $ Velocity_h..fpm.                    : num  NA NA NA NA NA NA NA NA NA NA ...\n",
              " $ Velocity_m..m.s.                    : num  NA NA NA NA NA NA NA NA NA NA ...\n",
              " $ Velocity_m..fpm.                    : num  NA NA NA NA NA NA NA NA NA NA ...\n",
              " $ Velocity_l..m.s.                    : num  NA NA NA NA NA NA NA NA NA NA ...\n",
              " $ Velocity_l..fpm.                    : num  NA NA NA NA NA NA NA NA NA NA ...\n",
              " $ Subject.s.height..cm.               : int  162 154 173 167 178 NA 164 150 157 174 ...\n",
              " $ Subject.s.weight..kg.               : int  NA NA NA NA NA NA NA NA NA NA ...\n",
              " $ Blind..curtain.                     : int  NA NA NA NA NA NA NA NA NA NA ...\n",
              " $ Fan                                 : int  NA NA NA NA NA NA NA NA NA NA ...\n",
              " $ Window                              : int  NA NA NA NA NA NA NA NA NA NA ...\n",
              " $ Door                                : int  NA NA NA NA NA NA NA NA NA NA ...\n",
              " $ Heater                              : int  NA NA NA NA NA NA NA NA NA NA ...\n",
              " $ Outdoor.monthly.air.temperature...C.: num  25 25 25 25 25 25 25 25 25 25 ...\n",
              " $ Outdoor.monthly.air.temperature...F.: num  77 77 77 77 77 77 77 77 77 77 ...\n"
            ]
          },
          "metadata": {
            "tags": []
          }
        }
      ]
    },
    {
      "cell_type": "code",
      "metadata": {
        "id": "lG7RJ4QWoTTT",
        "colab_type": "code",
        "outputId": "4325ba64-42fc-43d2-81ca-aa1a9533aaad",
        "colab": {
          "base_uri": "https://localhost:8080/",
          "height": 1000
        }
      },
      "source": [
        "# Remove the rows that have the output variables set to NA or empty cells\n",
        "\n",
        "\n",
        "%%R\n",
        "\n",
        "TCDBII = TCDBII[!is.na(TCDBII$Thermal.sensation.acceptability), ]\n",
        "TCDBII = TCDBII[!is.na(TCDBII$Thermal.preference), ]\n",
        "\n",
        "TCDBII = TCDBII[!(TCDBII$Thermal.sensation.acceptability==\"\"),]\n",
        "TCDBII = TCDBII[!(TCDBII$Thermal.preference==\"\"),]\n",
        "\n",
        "write.csv(TCDBII, file = \"Checkpoint1.csv\") # write the output to a .csv so that Python can read it from here.\n",
        "\n",
        "str(TCDBII)"
      ],
      "execution_count": 81,
      "outputs": [
        {
          "output_type": "display_data",
          "data": {
            "text/plain": [
              "'data.frame':\t17997 obs. of  66 variables:\n",
              " $ Publication..Citation.              : Factor w/ 29 levels \"\",\"Andamon, Mary Myla. \\\"Thermal comfort and building energy consumption in the Philippine context.\\\" PLEA 2006-Th\"| __truncated__,..: 20 20 20 20 20 20 20 20 20 20 ...\n",
              " $ Data.contributor                    : Factor w/ 28 levels \"Alison Kwok\",..: 18 18 18 18 18 18 18 18 18 18 ...\n",
              " $ Year                                : int  2000 2000 2000 2000 2000 2000 2000 2000 2000 2000 ...\n",
              " $ Season                              : Factor w/ 5 levels \"\",\"Autumn\",\"Spring\",..: 4 4 4 4 4 4 4 4 4 4 ...\n",
              " $ Climate                             : Factor w/ 15 levels \"Cold semi-arid\",..: 6 6 6 6 6 6 6 6 6 6 ...\n",
              " $ City                                : Factor w/ 45 levels \"Athens\",\"Auburn\",..: 42 42 42 42 42 42 42 42 42 42 ...\n",
              " $ Country                             : Factor w/ 18 levels \"Australia\",\"Brazil\",..: 9 9 9 9 9 9 9 9 9 9 ...\n",
              " $ Building.type                       : Factor w/ 4 levels \"Classroom\",\"Multifamily housing\",..: 1 1 1 1 1 1 1 1 1 1 ...\n",
              " $ Cooling.strategy                    : Factor w/ 1 level \"Air Conditioned\": 1 1 1 1 1 1 1 1 1 1 ...\n",
              " $ Age                                 : int  15 15 15 14 15 14 15 15 14 13 ...\n",
              " $ Sex                                 : Factor w/ 3 levels \"\",\"Female\",\"Male\": 2 2 3 2 3 2 3 2 2 3 ...\n",
              " $ Thermal.sensation                   : num  -0.5 -2.1 0.5 -2.5 -0.5 1 -1 -1.5 -3 NA ...\n",
              " $ Thermal.sensation.acceptability     : int  1 1 1 0 1 1 1 1 0 1 ...\n",
              " $ Thermal.preference                  : Factor w/ 4 levels \"\",\"cooler\",\"no change\",..: 4 3 3 3 3 3 3 3 2 3 ...\n",
              " $ Air.movement.acceptability          : int  1 1 1 1 1 0 1 1 1 1 ...\n",
              " $ Air.movement.preference             : Factor w/ 4 levels \"\",\"less\",\"more\",..: 4 4 3 2 4 4 4 4 4 3 ...\n",
              " $ Thermal.comfort                     : num  5 5 6 4 6 1 5 4 3 5 ...\n",
              " $ PMV                                 : num  NA NA NA NA NA NA NA NA NA NA ...\n",
              " $ PPD                                 : num  NA NA NA NA NA NA NA NA NA NA ...\n",
              " $ SET                                 : num  NA NA NA NA NA NA NA NA NA NA ...\n",
              " $ Clo                                 : num  0.25 0.25 0.27 0.23 0.34 0.23 0.27 0.43 0.3 0.27 ...\n",
              " $ Met                                 : num  NA NA NA NA NA NA NA NA NA NA ...\n",
              " $ activity_10                         : num  NA NA NA NA NA NA NA NA NA NA ...\n",
              " $ activity_20                         : num  NA NA NA NA NA NA NA NA NA NA ...\n",
              " $ acitivity_30                        : num  NA NA NA NA NA NA NA NA NA NA ...\n",
              " $ activity_60                         : num  NA NA NA NA NA NA NA NA NA NA ...\n",
              " $ Air.temperature...C.                : num  24.2 24.2 24.2 24.2 24.2 24.2 24.2 24.2 24.2 24.2 ...\n",
              " $ Air.temperature...F.                : num  75.6 75.6 75.6 75.6 75.6 75.6 75.6 75.6 75.6 75.6 ...\n",
              " $ Ta_h...C.                           : num  24.2 24.2 24.2 24.2 24.2 24.2 24.2 24.2 24.2 24.2 ...\n",
              " $ Ta_h...F.                           : num  75.6 75.6 75.6 75.6 75.6 75.6 75.6 75.6 75.6 75.6 ...\n",
              " $ Ta_m...C.                           : num  NA NA NA NA NA NA NA NA NA NA ...\n",
              " $ Ta_m...F.                           : num  NA NA NA NA NA NA NA NA NA NA ...\n",
              " $ Ta_l...C.                           : num  NA NA NA NA NA NA NA NA NA NA ...\n",
              " $ Ta_l...F.                           : num  NA NA NA NA NA NA NA NA NA NA ...\n",
              " $ Operative.temperature...C.          : num  NA NA NA NA NA NA NA NA NA NA ...\n",
              " $ Operative.temperature...F.          : num  NA NA NA NA NA NA NA NA NA NA ...\n",
              " $ Radiant.temperature...C.            : num  NA NA NA NA NA NA NA NA NA NA ...\n",
              " $ Radiant.temperature...F.            : num  NA NA NA NA NA NA NA NA NA NA ...\n",
              " $ Globe.temperature...C.              : num  24 24 24 24 24 24 24 24 24 24 ...\n",
              " $ Globe.temperature...F.              : num  75.2 75.2 75.2 75.2 75.2 75.2 75.2 75.2 75.2 75.2 ...\n",
              " $ Tg_h...C.                           : num  24 24 24 24 24 24 24 24 24 24 ...\n",
              " $ Tg_h...F.                           : num  75.2 75.2 75.2 75.2 75.2 75.2 75.2 75.2 75.2 75.2 ...\n",
              " $ Tg_m...C.                           : num  NA NA NA NA NA NA NA NA NA NA ...\n",
              " $ Tg_m...F.                           : num  NA NA NA NA NA NA NA NA NA NA ...\n",
              " $ Tg_l...C.                           : num  NA NA NA NA NA NA NA NA NA NA ...\n",
              " $ Tg_l...F.                           : num  NA NA NA NA NA NA NA NA NA NA ...\n",
              " $ Relative.humidity....               : num  50.2 50.2 50.2 50.2 50.2 50.2 50.2 50.2 50.2 50.2 ...\n",
              " $ Humidity.preference                 : Factor w/ 4 levels \"\",\"drier\",\"more humid\",..: 1 1 1 1 1 1 1 1 1 1 ...\n",
              " $ Humidity.sensation                  : int  NA NA NA NA NA NA NA NA NA NA ...\n",
              " $ Air.velocity..m.s.                  : num  0.06 0.06 0.06 0.06 0.06 0.06 0.06 0.06 0.06 0.06 ...\n",
              " $ Air.velocity..fpm.                  : num  11.8 11.8 11.8 11.8 11.8 ...\n",
              " $ Velocity_h..m.s.                    : num  NA NA NA NA NA NA NA NA NA NA ...\n",
              " $ Velocity_h..fpm.                    : num  NA NA NA NA NA NA NA NA NA NA ...\n",
              " $ Velocity_m..m.s.                    : num  NA NA NA NA NA NA NA NA NA NA ...\n",
              " $ Velocity_m..fpm.                    : num  NA NA NA NA NA NA NA NA NA NA ...\n",
              " $ Velocity_l..m.s.                    : num  NA NA NA NA NA NA NA NA NA NA ...\n",
              " $ Velocity_l..fpm.                    : num  NA NA NA NA NA NA NA NA NA NA ...\n",
              " $ Subject.s.height..cm.               : int  162 154 173 167 178 NA 164 150 157 174 ...\n",
              " $ Subject.s.weight..kg.               : int  NA NA NA NA NA NA NA NA NA NA ...\n",
              " $ Blind..curtain.                     : int  NA NA NA NA NA NA NA NA NA NA ...\n",
              " $ Fan                                 : int  NA NA NA NA NA NA NA NA NA NA ...\n",
              " $ Window                              : int  NA NA NA NA NA NA NA NA NA NA ...\n",
              " $ Door                                : int  NA NA NA NA NA NA NA NA NA NA ...\n",
              " $ Heater                              : int  NA NA NA NA NA NA NA NA NA NA ...\n",
              " $ Outdoor.monthly.air.temperature...C.: num  25 25 25 25 25 25 25 25 25 25 ...\n",
              " $ Outdoor.monthly.air.temperature...F.: num  77 77 77 77 77 77 77 77 77 77 ...\n"
            ]
          },
          "metadata": {
            "tags": []
          }
        }
      ]
    },
    {
      "cell_type": "code",
      "metadata": {
        "id": "xx4z2G02BXPN",
        "colab_type": "code",
        "colab": {
          "base_uri": "https://localhost:8080/",
          "height": 1000
        },
        "outputId": "267ade75-b743-4e76-d1df-37830bdb2dfb"
      },
      "source": [
        "# R code here calculates the percentage of missing data in each variable:\n",
        "%%R\n",
        "\n",
        "db_perc_missing_data = read.csv(\"Checkpoint1.csv\", fileEncoding=\"latin1\")\n",
        "\n",
        "install.packages(\"naniar\")\n",
        "install.packages(\"ggplot2\")\n",
        "\n",
        "library(naniar)\n",
        "library(ggplot2)\n",
        "\n",
        "g <- vis_miss(db_perc_missing_data,\n",
        "         warn_large_data = FALSE)       # Creates the plot for missing data\n",
        "\n",
        "aspect_ratio <- 2.5\n",
        "height <- 7\n",
        "print(g)  # this plots g and the next command saves it\n",
        "ggsave('missing_no.png', height = 7 , width = 7 * aspect_ratio) # Look for missing_no.png on the left pane"
      ],
      "execution_count": 82,
      "outputs": [
        {
          "output_type": "stream",
          "text": [
            "/usr/local/lib/python3.6/dist-packages/rpy2/rinterface/__init__.py:146: RRuntimeWarning: Installing package into ‘/usr/local/lib/R/site-library’\n",
            "(as ‘lib’ is unspecified)\n",
            "\n",
            "  warnings.warn(x, RRuntimeWarning)\n",
            "/usr/local/lib/python3.6/dist-packages/rpy2/rinterface/__init__.py:146: RRuntimeWarning: trying URL 'https://cran.rstudio.com/src/contrib/naniar_0.4.2.tar.gz'\n",
            "\n",
            "  warnings.warn(x, RRuntimeWarning)\n",
            "/usr/local/lib/python3.6/dist-packages/rpy2/rinterface/__init__.py:146: RRuntimeWarning: Content type 'application/x-gzip'\n",
            "  warnings.warn(x, RRuntimeWarning)\n",
            "/usr/local/lib/python3.6/dist-packages/rpy2/rinterface/__init__.py:146: RRuntimeWarning:  length 2971573 bytes (2.8 MB)\n",
            "\n",
            "  warnings.warn(x, RRuntimeWarning)\n",
            "/usr/local/lib/python3.6/dist-packages/rpy2/rinterface/__init__.py:146: RRuntimeWarning: =\n",
            "  warnings.warn(x, RRuntimeWarning)\n",
            "/usr/local/lib/python3.6/dist-packages/rpy2/rinterface/__init__.py:146: RRuntimeWarning: \n",
            "\n",
            "  warnings.warn(x, RRuntimeWarning)\n",
            "/usr/local/lib/python3.6/dist-packages/rpy2/rinterface/__init__.py:146: RRuntimeWarning: downloaded 2.8 MB\n",
            "\n",
            "\n",
            "  warnings.warn(x, RRuntimeWarning)\n",
            "/usr/local/lib/python3.6/dist-packages/rpy2/rinterface/__init__.py:146: RRuntimeWarning: \n",
            "  warnings.warn(x, RRuntimeWarning)\n",
            "/usr/local/lib/python3.6/dist-packages/rpy2/rinterface/__init__.py:146: RRuntimeWarning: The downloaded source packages are in\n",
            "\t‘/tmp/RtmpvEfgFs/downloaded_packages’\n",
            "  warnings.warn(x, RRuntimeWarning)\n",
            "/usr/local/lib/python3.6/dist-packages/rpy2/rinterface/__init__.py:146: RRuntimeWarning: trying URL 'https://cran.rstudio.com/src/contrib/ggplot2_3.2.1.tar.gz'\n",
            "\n",
            "  warnings.warn(x, RRuntimeWarning)\n",
            "/usr/local/lib/python3.6/dist-packages/rpy2/rinterface/__init__.py:146: RRuntimeWarning:  length 3204655 bytes (3.1 MB)\n",
            "\n",
            "  warnings.warn(x, RRuntimeWarning)\n",
            "/usr/local/lib/python3.6/dist-packages/rpy2/rinterface/__init__.py:146: RRuntimeWarning: downloaded 3.1 MB\n",
            "\n",
            "\n",
            "  warnings.warn(x, RRuntimeWarning)\n"
          ],
          "name": "stderr"
        },
        {
          "output_type": "display_data",
          "data": {
            "image/png": "[encoded data removed]"
          },
          "metadata": {
            "tags": []
          }
        }
      ]
    },
    {
      "cell_type": "code",
      "metadata": {
        "id": "gGfWFuhnz0X8",
        "colab_type": "code",
        "outputId": "af5f08d7-371e-42a8-af78-1ac3f4fbfdba",
        "colab": {
          "base_uri": "https://localhost:8080/",
          "height": 34
        }
      },
      "source": [
        "# Define a python function that tests if a variable is numeric, returns a bool value\n",
        "\n",
        "def testNonNumeric(xNew):\n",
        "  # xNew = float(xNew)\n",
        "  xNew= str(xNew) # Convert to string\n",
        "  try:\n",
        "        float(xNew) # Check if float\n",
        "        return True\n",
        "  except ValueError:\n",
        "        return False\n",
        "\n",
        "testNonNumeric(\"ab\") # This is a test: you can try to put different stuff in the brackets\n"
      ],
      "execution_count": 83,
      "outputs": [
        {
          "output_type": "execute_result",
          "data": {
            "text/plain": [
              "False"
            ]
          },
          "metadata": {
            "tags": []
          },
          "execution_count": 83
        }
      ]
    },
    {
      "cell_type": "code",
      "metadata": {
        "id": "jo9hyD48w3po",
        "colab_type": "code",
        "colab": {}
      },
      "source": [
        "# Reverted to python beccause I am very comfortable in Python and because Colab lets me do it\n",
        "# This cell was written as a test for the imputation\n",
        "\n",
        "TCDBII = pd.read_csv('Checkpoint1.csv') # This reads the 'Checkpoint1.csv' to a pandas dataframe called TCDBII\n",
        "# TCDBII = pd.read_csv('Checkpoint2.csv')  #Uncomment to read the csv that was generated from CHPC, the imputed data\n",
        "\n",
        "TCDBII = TCDBII[['Thermal.sensation.acceptability',       # This filters the database to only have relavant columns\n",
        "                 'Thermal.preference',\n",
        "                 \"Clo\",\n",
        "                  \"Met\" ,\n",
        "                  \"Air.temperature...C.\",\n",
        "                  \"Radiant.temperature...C.\",\n",
        "                  \"Relative.humidity....\"               ,\n",
        "                  \"Air.velocity..m.s.\"                ,\n",
        "                  \"Climate\"                             ,\n",
        "                  \"Country\" ,\n",
        "                  \"Building.type\"                       ,\n",
        "                  \"Age\"                                 ,\n",
        "                  \"Sex\"                                 ,\n",
        "                  \"Ta_h...C.\"  ,\n",
        "                  \"Ta_m...C.\"                           ,\n",
        "                  \"Ta_l...C.\"                           ,\n",
        "                  \"Globe.temperature...C.\"              ,\n",
        "                  \"Tg_h...C.\"               ,\n",
        "                  \"Tg_m...C.\"                           ,\n",
        "                  \"Tg_l...C.\"                           ,\n",
        "                  \"Velocity_h..m.s.\"                    ,\n",
        "                  \"Velocity_m..m.s.\"                    ,\n",
        "                  \"Velocity_l..m.s.\"                    ,\n",
        "                  \"Subject.s.height..cm.\"               ,\n",
        "                  \"Subject.s.weight..kg.\"               ,\n",
        "                  \"Blind..curtain.\"                     ,\n",
        "                  \"Fan\"                                 ,\n",
        "                  \"Window\"                              ,\n",
        "                  \"Door\"                                ,\n",
        "                  \"Heater\"                              ,\n",
        "                  \"Outdoor.monthly.air.temperature...C.\"]]\n",
        "\n",
        "TCDBII = TCDBII[[                                       # Here we filter the dataframe to only have the variables that are uncommented\n",
        "                 'Thermal.sensation.acceptability',     # This is where we select the variables that go into the imputation test. It was not present in the original study\n",
        "                 'Thermal.preference',\n",
        "                 \"Clo\",\n",
        "                #  \"Air.temperature...C.\",\n",
        "                 \"Air.velocity..m.s.\"                ,\n",
        "                #  \"Tg_h...C.\"               ,\n",
        "\n",
        "                #  \"Clo\" ,\n",
        "                 \"Radiant.temperature...C.\",\n",
        "                #  \"Tg_h...C.\",\n",
        "                 \"Ta_h...C.\",\n",
        "                #  \"Sex\"\n",
        "                 ]]\n",
        "\n",
        "# TCDBII.applymap(testNonNumeric)\n",
        "TCDBII = TCDBII.dropna(axis=0, how= 'any')              # Drop any rows that have na\n",
        "\n",
        "TCDBII.to_csv(\"Checkpoint2.csv\")                   # Write the dataframe to a csv so it can become input for subsequent cells. Also is a checkpoint.\n",
        "\n",
        "# Problem here is the TCDBII dataframe didn't update the R dataframe, so the next cell fixes that\n"
      ],
      "execution_count": 0,
      "outputs": []
    },
    {
      "cell_type": "code",
      "metadata": {
        "id": "E1J6iPgBUx1g",
        "colab_type": "code",
        "outputId": "5cf450e8-b46b-4ec8-b3ec-3ae21061d861",
        "colab": {
          "base_uri": "https://localhost:8080/",
          "height": 153
        }
      },
      "source": [
        "# This rewrites the R dataframe called TCDBII, reading it from the csv written in the previous cell\n",
        "\n",
        "%%R\n",
        "\n",
        "TCDBII = read.csv(\"Checkpoint2.csv\")\n",
        "\n",
        "\n",
        "str (TCDBII)"
      ],
      "execution_count": 85,
      "outputs": [
        {
          "output_type": "display_data",
          "data": {
            "text/plain": [
              "'data.frame':\t3230 obs. of  7 variables:\n",
              " $ X                              : int  13299 13300 13301 13302 13303 13304 13305 13306 13307 13308 ...\n",
              " $ Thermal.sensation.acceptability: int  1 1 1 1 1 1 1 1 1 1 ...\n",
              " $ Thermal.preference             : Factor w/ 3 levels \"cooler\",\"no change\",..: 1 2 2 2 3 2 2 1 3 2 ...\n",
              " $ Clo                            : num  0.4 0.9 0.5 0.5 0.4 0.5 1.1 0.5 1.1 0.4 ...\n",
              " $ Air.velocity..m.s.             : num  0.09 0.07 0.1 0.13 0.1 0.09 0.21 0.1 0.14 0.11 ...\n",
              " $ Radiant.temperature...C.       : num  23.4 23.3 23.3 22.6 22.1 22.5 22.2 23.9 23.3 22.5 ...\n",
              " $ Ta_h...C.                      : num  23.8 24.1 24 23 23 23 23 24.5 22.2 22.7 ...\n"
            ]
          },
          "metadata": {
            "tags": []
          }
        }
      ]
    },
    {
      "cell_type": "code",
      "metadata": {
        "id": "-6VTx4mrf-a1",
        "colab_type": "code",
        "outputId": "3cdc96ca-a6e3-4ae5-8945-cc2affe1b7bf",
        "colab": {
          "base_uri": "https://localhost:8080/",
          "height": 119
        }
      },
      "source": [
        "# R cell\n",
        "# This cell reads the csv from the last cell \n",
        "# Then drops all OUTPUT (That somehow can be used to predict thermal comfort) variables \n",
        "# This is necessary because we will One-hot encode the categorical variables in the next cell\n",
        "# Many of our output variables are categorical variables and we dont want to one hot encode them\n",
        "# We will deal with these variables separately later and we don't want R/Python/anything_else to mess with this data now. \n",
        "\n",
        "%%R\n",
        "# imputed\n",
        "\n",
        "imputed = read.csv(\"Checkpoint2.csv\")\n",
        "\n",
        "drop <- c(\"TCDBII.Thermal.sensation\",                   # A list of all the variables that can represent thermal comfort, as the variables appear in the dataframe when the TC DBII CSV is read using R\n",
        "          \"Thermal.sensation\",\n",
        "          \"Heater\",\n",
        "          \"Thermal.sensation.acceptability\"     ,\n",
        "          \"Thermal.preference\"                  ,\n",
        "          \"Air.movement.acceptability\"          ,\n",
        "          \"Air.movement.preference\"             ,\n",
        "          \"Thermal.comfort\"                     ,\n",
        "          \"PMV\"                                 ,\n",
        "          \"PPD\"                                 ,\n",
        "          \"SET\"                                 )\n",
        "\n",
        "imputed = imputed[,!(names(imputed) %in% drop)]       # Drop all the columns in the list above\n",
        "\n",
        "str(imputed)\n"
      ],
      "execution_count": 86,
      "outputs": [
        {
          "output_type": "display_data",
          "data": {
            "text/plain": [
              "'data.frame':\t3230 obs. of  5 variables:\n",
              " $ X                       : int  13299 13300 13301 13302 13303 13304 13305 13306 13307 13308 ...\n",
              " $ Clo                     : num  0.4 0.9 0.5 0.5 0.4 0.5 1.1 0.5 1.1 0.4 ...\n",
              " $ Air.velocity..m.s.      : num  0.09 0.07 0.1 0.13 0.1 0.09 0.21 0.1 0.14 0.11 ...\n",
              " $ Radiant.temperature...C.: num  23.4 23.3 23.3 22.6 22.1 22.5 22.2 23.9 23.3 22.5 ...\n",
              " $ Ta_h...C.               : num  23.8 24.1 24 23 23 23 23 24.5 22.2 22.7 ...\n"
            ]
          },
          "metadata": {
            "tags": []
          }
        }
      ]
    },
    {
      "cell_type": "code",
      "metadata": {
        "id": "GFle494Mt-Ro",
        "colab_type": "code",
        "outputId": "dce77139-aa61-4a15-ebf4-ad949ab53f14",
        "colab": {
          "base_uri": "https://localhost:8080/",
          "height": 765
        }
      },
      "source": [
        "# This cell exists to one hot encode the \"categorical\" or Non numerical variables. \n",
        "# This is effectively useless since variables like Gender (which had text like \"Male\" or \"Female\") don't exist in the workflow anymore\n",
        "\n",
        "\n",
        "%%R\n",
        "# imputed\n",
        "\n",
        "# imputed = read.csv(\"Checkpoint2.csv\")\n",
        "\n",
        "# # drop <- c(\"TCDBII$Thermal.sensation\", \"Heater\",\"Blind..curtain.\")\n",
        "# drop <- c(\"TCDBII.Thermal.sensation\",\n",
        "#           \"Thermal.sensation\",\n",
        "#           \"Heater\",\n",
        "#           \"Thermal.sensation.acceptability\"     ,\n",
        "#           \"Thermal.preference\"                  ,\n",
        "#           \"Air.movement.acceptability\"          ,\n",
        "#           \"Air.movement.preference\"             ,\n",
        "#           \"Thermal.comfort\"                     ,\n",
        "#           \"PMV\"                                 ,\n",
        "#           \"PPD\"                                 ,\n",
        "#           \"SET\"                                 )\n",
        "\n",
        "# imputed = imputed[,!(names(imputed) %in% drop)]\n",
        "\n",
        "install.packages(\"mltools\")\n",
        "library(mltools)\n",
        "library(data.table)                 # Stuff that R needs to make magic that follows \n",
        "\n",
        "imputed = one_hot(as.data.table(imputed, keep.rownames=TRUE), dropCols = TRUE, dropUnusedLevels = FALSE) # This is where the one-hot-encoding happens\n",
        "names(imputed)<-make.names(names(imputed),unique = TRUE)\n",
        "impute<-imputed[ , colSums(is.na(imputed)) == 0]            # I put this everywhere because I am scared of NAs\n",
        "str(imputed)\n",
        "\n",
        "# We add back our output variables(Thermal comfort predictors) to the imputed dataframe\n",
        "\n",
        "imputed <- cbind(imputed, Thermal.acceptability = TCDBII$Thermal.sensation.acceptability)\n",
        "imputed <- cbind(imputed, Thermal.preference =TCDBII$Thermal.preference)\n",
        "\n",
        "str(imputed)"
      ],
      "execution_count": 87,
      "outputs": [
        {
          "output_type": "stream",
          "text": [
            "/usr/local/lib/python3.6/dist-packages/rpy2/rinterface/__init__.py:146: RRuntimeWarning: Installing package into ‘/usr/local/lib/R/site-library’\n",
            "(as ‘lib’ is unspecified)\n",
            "\n",
            "  warnings.warn(x, RRuntimeWarning)\n",
            "/usr/local/lib/python3.6/dist-packages/rpy2/rinterface/__init__.py:146: RRuntimeWarning: trying URL 'https://cran.rstudio.com/src/contrib/mltools_0.3.5.tar.gz'\n",
            "\n",
            "  warnings.warn(x, RRuntimeWarning)\n",
            "/usr/local/lib/python3.6/dist-packages/rpy2/rinterface/__init__.py:146: RRuntimeWarning: Content type 'application/x-gzip'\n",
            "  warnings.warn(x, RRuntimeWarning)\n",
            "/usr/local/lib/python3.6/dist-packages/rpy2/rinterface/__init__.py:146: RRuntimeWarning:  length 32471 bytes (31 KB)\n",
            "\n",
            "  warnings.warn(x, RRuntimeWarning)\n",
            "/usr/local/lib/python3.6/dist-packages/rpy2/rinterface/__init__.py:146: RRuntimeWarning: =\n",
            "  warnings.warn(x, RRuntimeWarning)\n",
            "/usr/local/lib/python3.6/dist-packages/rpy2/rinterface/__init__.py:146: RRuntimeWarning: \n",
            "\n",
            "  warnings.warn(x, RRuntimeWarning)\n",
            "/usr/local/lib/python3.6/dist-packages/rpy2/rinterface/__init__.py:146: RRuntimeWarning: downloaded 31 KB\n",
            "\n",
            "\n",
            "  warnings.warn(x, RRuntimeWarning)\n",
            "/usr/local/lib/python3.6/dist-packages/rpy2/rinterface/__init__.py:146: RRuntimeWarning: \n",
            "  warnings.warn(x, RRuntimeWarning)\n",
            "/usr/local/lib/python3.6/dist-packages/rpy2/rinterface/__init__.py:146: RRuntimeWarning: The downloaded source packages are in\n",
            "\t‘/tmp/RtmpvEfgFs/downloaded_packages’\n",
            "  warnings.warn(x, RRuntimeWarning)\n"
          ],
          "name": "stderr"
        },
        {
          "output_type": "display_data",
          "data": {
            "text/plain": [
              "Classes ‘data.table’ and 'data.frame':\t3230 obs. of  6 variables:\n",
              " $ rn                      : chr  \"1\" \"2\" \"3\" \"4\" ...\n",
              " $ X                       : int  13299 13300 13301 13302 13303 13304 13305 13306 13307 13308 ...\n",
              " $ Clo                     : num  0.4 0.9 0.5 0.5 0.4 0.5 1.1 0.5 1.1 0.4 ...\n",
              " $ Air.velocity..m.s.      : num  0.09 0.07 0.1 0.13 0.1 0.09 0.21 0.1 0.14 0.11 ...\n",
              " $ Radiant.temperature...C.: num  23.4 23.3 23.3 22.6 22.1 22.5 22.2 23.9 23.3 22.5 ...\n",
              " $ Ta_h...C.               : num  23.8 24.1 24 23 23 23 23 24.5 22.2 22.7 ...\n",
              " - attr(*, \".internal.selfref\")=<externalptr> \n",
              "Classes ‘data.table’ and 'data.frame':\t3230 obs. of  8 variables:\n",
              " $ rn                      : chr  \"1\" \"2\" \"3\" \"4\" ...\n",
              " $ X                       : int  13299 13300 13301 13302 13303 13304 13305 13306 13307 13308 ...\n",
              " $ Clo                     : num  0.4 0.9 0.5 0.5 0.4 0.5 1.1 0.5 1.1 0.4 ...\n",
              " $ Air.velocity..m.s.      : num  0.09 0.07 0.1 0.13 0.1 0.09 0.21 0.1 0.14 0.11 ...\n",
              " $ Radiant.temperature...C.: num  23.4 23.3 23.3 22.6 22.1 22.5 22.2 23.9 23.3 22.5 ...\n",
              " $ Ta_h...C.               : num  23.8 24.1 24 23 23 23 23 24.5 22.2 22.7 ...\n",
              " $ Thermal.acceptability   : int  1 1 1 1 1 1 1 1 1 1 ...\n",
              " $ Thermal.preference      : Factor w/ 3 levels \"cooler\",\"no change\",..: 1 2 2 2 3 2 2 1 3 2 ...\n",
              " - attr(*, \".internal.selfref\")=<externalptr> \n"
            ]
          },
          "metadata": {
            "tags": []
          }
        }
      ]
    },
    {
      "cell_type": "code",
      "metadata": {
        "id": "qXVlnDYGy6au",
        "colab_type": "code",
        "colab": {}
      },
      "source": [
        "# Write whatever was done before this into a new csv to be used by R/Python/Anything_else that follows\n",
        "\n",
        "%%R\n",
        "\n",
        "write.csv(imputed, file = \"Checkpoint3.csv\")"
      ],
      "execution_count": 0,
      "outputs": []
    },
    {
      "cell_type": "code",
      "metadata": {
        "id": "-LeCWgd0uQFC",
        "colab_type": "code",
        "outputId": "ac563a33-67ba-45da-9c2e-eb4c1f6cb2d8",
        "colab": {
          "base_uri": "https://localhost:8080/",
          "height": 68
        }
      },
      "source": [
        "# This cell processes the TC predictor variables.\n",
        "# A new variable called cooler/warmer is created to replace both Thermal Preference and Thermal Acceptability)\n",
        "# 'cooler'/'warmer' is 1 if the occupant wants to be cooler/warmer and 0 if they want no change\n",
        "\n",
        "# Sadly coming back to Python, because I have done this kind of stuff in Python before, and I am familiar with it. \n",
        "\n",
        "\n",
        "classifier = pd.read_csv(\"Checkpoint3.csv\")      # Read csv, as always\n",
        "\n",
        "classifier['Thermal.preference'] = classifier['Thermal.preference'].apply(lambda row: 1 if row == 'cooler' else 0)    # Convert TP to 0 or 1 depending if it is supposed to be cooler or warmer\n",
        "# 1 is if  unnacceptable and prefer cooler\n",
        "classifier['cooler'] = np.where((classifier['Thermal.acceptability'] == 0) & (classifier['Thermal.preference'] == 1), 1, 0) # Created a new variable called 'cooler' which is 1 when TP and TA is 1 and 0 in all other cases\n",
        "# Thermal acceptability : If 0, unacceptable\n",
        "classifier = classifier.drop([\"Unnamed: 0\",'rn', 'X'],axis = 'columns')         # Drop all the artifacts that were created from reading between Pandas and R\n",
        "classifier = classifier.drop(['Thermal.acceptability', 'Thermal.preference'], axis=1)     # Drop both the TA and TP columns since we don't need them anymore\n",
        "\n",
        "classifier['cooler'].value_counts()     # Shows the number of 0s and 1s in the cooler column"
      ],
      "execution_count": 89,
      "outputs": [
        {
          "output_type": "execute_result",
          "data": {
            "text/plain": [
              "0    2963\n",
              "1    267 \n",
              "Name: cooler, dtype: int64"
            ]
          },
          "metadata": {
            "tags": []
          },
          "execution_count": 89
        }
      ]
    },
    {
      "cell_type": "code",
      "metadata": {
        "id": "OkpV0kA9UEpr",
        "colab_type": "code",
        "colab": {
          "base_uri": "https://localhost:8080/",
          "height": 34
        },
        "outputId": "7705e69b-ad18-40a8-e16d-35a1c2192613"
      },
      "source": [
        "## Dropping highly correlated features\n",
        "\n",
        "# Commented out for the imputation test since I just have 3-4 variables left and I cannot afford to let this code cell take away anymore of my variables. \n",
        "\n",
        "## A lot of my variables are highly correlated. Doesn't matter since everyone's life is messed up somewhere.\n",
        "\n",
        "\n",
        "df = classifier \n",
        "\n",
        "# df = df[['Country_Canada', 'Country_UK', 'Fan', 'Outdoor.monthly.air.temperature...C.']]\n",
        "\n",
        "# Create correlation matrix\n",
        "corr_matrix = df.corr().abs()\n",
        "corr_matrix.to_csv(\"classifierCorrelation.csv\", index=False)        # Checkpoint csv\n",
        "\n",
        "# Select upper triangle of correlation matrix\n",
        "upper = corr_matrix.where(np.triu(np.ones(corr_matrix.shape), k=1).astype(np.bool))     \n",
        "\n",
        "# Find index of feature columns with correlation greater than 0.9\n",
        "to_drop = [column for column in upper.columns if any(upper[column] > 0.9)]    #This makes a list of variables that are too(greater than 0.9) correlated \n",
        "\n",
        "# Drop features \n",
        "# df = df.drop(df[to_drop], axis=1)  # This doesn't happen anymore since I don't want to drop any of the 3 variables I have left\n",
        "\n",
        "\n",
        "print(\"Highly correlated variables being dropped: \", to_drop)\n",
        "\n",
        "classifier = df\n",
        "classifier.to_csv(\"Checkpoint4.csv\", index=False)           # Checkpoint csv"
      ],
      "execution_count": 90,
      "outputs": [
        {
          "output_type": "stream",
          "text": [
            "Highly correlated variables being dropped:  []\n"
          ],
          "name": "stdout"
        }
      ]
    },
    {
      "cell_type": "code",
      "metadata": {
        "id": "UheyWz-elmya",
        "colab_type": "code",
        "colab": {}
      },
      "source": [
        "forML = pd.read_csv(\"Checkpoint4.csv\")\n",
        "\n",
        "forML=forML.dropna(axis='columns')            # drop all NAs all the time \n",
        "\n",
        "forML.to_csv(\"Checkpoint4.csv\",index=False)\n",
        "\n",
        "# We are moving back to R from this point. "
      ],
      "execution_count": 0,
      "outputs": []
    },
    {
      "cell_type": "code",
      "metadata": {
        "id": "Lw4KQ57g26qu",
        "colab_type": "code",
        "colab": {
          "base_uri": "https://localhost:8080/",
          "height": 901
        },
        "outputId": "0a4b0c80-498a-4f3f-f064-2dedd84dc283"
      },
      "source": [
        "# R cell (all cells that have  %%R is an R cell)\n",
        "# This is where the logistic regression happens\n",
        "\n",
        "\n",
        "%%R\n",
        "\n",
        "install.packages(\"caTools\")\n",
        "library(caTools)\n",
        "\n",
        "TCLog = read.csv(\"Checkpoint4.csv\") # Read the csv from the last cells\n",
        "\n",
        "set.seed(1000)                                            # Seed set for reproducibility \n",
        "split = sample.split(TCLog$cooler, SplitRatio = 0.8)      # Split to 8:2 ratio\n",
        "Train = subset(TCLog, split == TRUE)                      # Assign to Train and Test\n",
        "Test = subset(TCLog, split == FALSE)\n",
        "TCLogModel = glm(cooler ~ ., data = Train, family = binomial)   # Model created\n",
        "predictTest = predict(TCLogModel, type = \"response\", newdata = Test)    # Prediction, predicted values using the Test Data and Model is assigned to predictTest\n",
        "\n",
        "summary(TCLogModel)"
      ],
      "execution_count": 92,
      "outputs": [
        {
          "output_type": "stream",
          "text": [
            "/usr/local/lib/python3.6/dist-packages/rpy2/rinterface/__init__.py:146: RRuntimeWarning: Installing package into ‘/usr/local/lib/R/site-library’\n",
            "(as ‘lib’ is unspecified)\n",
            "\n",
            "  warnings.warn(x, RRuntimeWarning)\n",
            "/usr/local/lib/python3.6/dist-packages/rpy2/rinterface/__init__.py:146: RRuntimeWarning: trying URL 'https://cran.rstudio.com/src/contrib/caTools_1.18.0.tar.gz'\n",
            "\n",
            "  warnings.warn(x, RRuntimeWarning)\n",
            "/usr/local/lib/python3.6/dist-packages/rpy2/rinterface/__init__.py:146: RRuntimeWarning: Content type 'application/x-gzip'\n",
            "  warnings.warn(x, RRuntimeWarning)\n",
            "/usr/local/lib/python3.6/dist-packages/rpy2/rinterface/__init__.py:146: RRuntimeWarning:  length 64577 bytes (63 KB)\n",
            "\n",
            "  warnings.warn(x, RRuntimeWarning)\n",
            "/usr/local/lib/python3.6/dist-packages/rpy2/rinterface/__init__.py:146: RRuntimeWarning: =\n",
            "  warnings.warn(x, RRuntimeWarning)\n",
            "/usr/local/lib/python3.6/dist-packages/rpy2/rinterface/__init__.py:146: RRuntimeWarning: \n",
            "\n",
            "  warnings.warn(x, RRuntimeWarning)\n",
            "/usr/local/lib/python3.6/dist-packages/rpy2/rinterface/__init__.py:146: RRuntimeWarning: downloaded 63 KB\n",
            "\n",
            "\n",
            "  warnings.warn(x, RRuntimeWarning)\n",
            "/usr/local/lib/python3.6/dist-packages/rpy2/rinterface/__init__.py:146: RRuntimeWarning: \n",
            "  warnings.warn(x, RRuntimeWarning)\n",
            "/usr/local/lib/python3.6/dist-packages/rpy2/rinterface/__init__.py:146: RRuntimeWarning: The downloaded source packages are in\n",
            "\t‘/tmp/RtmpvEfgFs/downloaded_packages’\n",
            "  warnings.warn(x, RRuntimeWarning)\n"
          ],
          "name": "stderr"
        },
        {
          "output_type": "display_data",
          "data": {
            "text/plain": [
              "\n",
              "Call:\n",
              "glm(formula = cooler ~ ., family = binomial, data = Train)\n",
              "\n",
              "Deviance Residuals: \n",
              "    Min       1Q   Median       3Q      Max  \n",
              "-1.6542  -0.4415  -0.3382  -0.2415   3.0451  \n",
              "\n",
              "Coefficients:\n",
              "                         Estimate Std. Error z value Pr(>|z|)    \n",
              "(Intercept)              -15.8388     1.5727 -10.071  < 2e-16 ***\n",
              "Clo                       -1.0545     0.4092  -2.577  0.00997 ** \n",
              "Air.velocity..m.s.        -6.6700     2.0522  -3.250  0.00115 ** \n",
              "Radiant.temperature...C.   0.3029     0.1491   2.031  0.04228 *  \n",
              "Ta_h...C.                  0.3232     0.1410   2.292  0.02190 *  \n",
              "---\n",
              "Signif. codes:  0 ‘***’ 0.001 ‘**’ 0.01 ‘*’ 0.05 ‘.’ 0.1 ‘ ’ 1\n",
              "\n",
              "(Dispersion parameter for binomial family taken to be 1)\n",
              "\n",
              "    Null deviance: 1476.0  on 2583  degrees of freedom\n",
              "Residual deviance: 1327.8  on 2579  degrees of freedom\n",
              "AIC: 1337.8\n",
              "\n",
              "Number of Fisher Scoring iterations: 6\n",
              "\n"
            ]
          },
          "metadata": {
            "tags": []
          }
        }
      ]
    },
    {
      "cell_type": "code",
      "metadata": {
        "id": "rQKj9qo8_ix4",
        "colab_type": "code",
        "colab": {}
      },
      "source": [
        "# R Cell\n",
        "# Saves the coefficients to \"Checkpoint5.csv\"\n",
        "\n",
        "%%R\n",
        "\n",
        "write.csv(summary(TCLogModel)$coefficients, file = \"Checkpoint5.csv\")   "
      ],
      "execution_count": 0,
      "outputs": []
    },
    {
      "cell_type": "code",
      "metadata": {
        "id": "AGQq7eTJiAWt",
        "colab_type": "code",
        "colab": {}
      },
      "source": [
        "# CoolerClassifierSummary = pd.read_csv(\"Checkpoint5.csv\")\n",
        "# CoolerClassifierSummary"
      ],
      "execution_count": 0,
      "outputs": []
    },
    {
      "cell_type": "code",
      "metadata": {
        "id": "gCPjivvs_iaq",
        "colab_type": "code",
        "colab": {
          "base_uri": "https://localhost:8080/",
          "height": 560
        },
        "outputId": "c2b79700-7b29-4ef6-f74e-811e0522f441"
      },
      "source": [
        "# Python cell for making plots\n",
        "# Uses seaborn\n",
        "\n",
        "import pandas as pd\n",
        "import seaborn as sns\n",
        "\n",
        "CoolerClassifierSummary = pd.read_csv(\"Checkpoint5.csv\")\n",
        "CoolerClassifierSummary = CoolerClassifierSummary[CoolerClassifierSummary['Pr(>|z|)'] < 0.1]                # We just need p values less than 0.1\n",
        "CoolerClassifierSummary = CoolerClassifierSummary[CoolerClassifierSummary[\"Unnamed: 0\"] != '(Intercept)']   # We don't want the intercept in the variable list (intercept of the regression line/curve)\n",
        "CoolerClassifierSummary = CoolerClassifierSummary.sort_values(by=[\"Pr(>|z|)\"])                              # Sort by order of significance\n",
        "\n",
        "# CoolerClassifierSummary #Uncomment to take a peek at what is happening\n",
        "\n",
        "sns.set(font_scale=1.75)    \n",
        "\n",
        "g = sns.barplot(x=\"Unnamed: 0\", y=\"Pr(>|z|)\", data=CoolerClassifierSummary,                                 # Create plot\n",
        "                # order='Pr(>|z|)'\n",
        "                )\n",
        "g.set_yscale(\"log\")\n",
        "\n",
        "g.set_xticklabels(g.get_xticklabels(),rotation=90)\n",
        "# labels = ['T_g high', 'Clo', 'T_mrt', 'T_a low', 'T_a high', 'T_a mid', 'Hot summ med', 'T_g low', 'Velocity low', 'Velocity mid', 'Gender', 'Met']\n",
        "# g.set(xticklabels=labels)\n",
        "g.set_xlabel(\"Variable\")\n",
        "g.set_ylabel(\"p-value\")\n",
        "g.set_title('Prefer Cooler Classifier')"
      ],
      "execution_count": 95,
      "outputs": [
        {
          "output_type": "execute_result",
          "data": {
            "text/plain": [
              "Text(0.5, 1.0, 'Want Cooler Classifier (Smaller Better)')"
            ]
          },
          "metadata": {
            "tags": []
          },
          "execution_count": 95
        },
        {
          "output_type": "display_data",
          "data": {
            "image/png": "[encoded data removed]",
            "text/plain": [
              "<Figure size 432x288 with 1 Axes>"
            ]
          },
          "metadata": {
            "tags": []
          }
        }
      ]
    },
    {
      "cell_type": "code",
      "metadata": {
        "id": "OztA56PN-XuQ",
        "colab_type": "code",
        "colab": {}
      },
      "source": [
        "# This was code for calculating the AUC for just the significant variables, when all the TC DBII were used.\n",
        "# This peice of code is useless for now\n",
        "\n",
        "# %%R\n",
        "\n",
        "# toselect.x <- summary(TCLogModel)$coeff[-1,4] < 0.1\n",
        "\n",
        "# # select sig. variables\n",
        "# relevant.x <- names(toselect.x)[toselect.x == TRUE] \n",
        "# relevant.x = Reduce(intersect, list(colnames(Train),relevant.x))\n",
        "\n",
        "# relevant.x = c( \"Clo\", \"Air.temperature...C.\", \"Air.velocity..m.s.\" , \"Tg_h...C.\" )\n",
        "# # formula with only sig variables\n",
        "# sig.formula <- as.formula(paste(\"cooler ~\",paste(relevant.x, collapse= \"+\")))\n",
        "\n",
        "# sig.model <- glm(formula=sig.formula, data = Train, family = binomial)\n",
        "\n",
        "\n",
        "# predictTest = predict(sig.model, type = \"response\", newdata = Test)\n",
        "# table(Test$cooler, predictTest > 0.136)\n",
        "\n",
        "# install.packages(\"ROCR\")\n",
        "# library(ROCR)\n",
        "# ROCRpred = prediction(predictTest, Test$cooler)\n",
        "# as.numeric(performance(ROCRpred, \"auc\")@y.values)\n",
        "\n",
        "\n",
        "# table(Test$cooler, predictTest > 0.136)"
      ],
      "execution_count": 0,
      "outputs": []
    },
    {
      "cell_type": "code",
      "metadata": {
        "id": "yBTq7omHVa_o",
        "colab_type": "code",
        "colab": {
          "base_uri": "https://localhost:8080/",
          "height": 476
        },
        "outputId": "e7164d73-a98e-4319-f2dd-1a79b26a61bb"
      },
      "source": [
        "# This is where the AUC value is calculated\n",
        "# A U C # <- This is the output. \n",
        "\n",
        "%%R\n",
        "\n",
        "install.packages(\"ROCR\")\n",
        "library(ROCR)\n",
        "\n",
        "ROCRpred = prediction(predictTest, Test$cooler) # Creates a prediction object from the prediction and labels. This is necessary for ROCR package to work\n",
        "as.numeric(performance(ROCRpred, \"auc\")@y.values) # Calculates the AUC (More info: https://cran.r-project.org/web/packages/ROCR/ROCR.pdf)"
      ],
      "execution_count": 97,
      "outputs": [
        {
          "output_type": "stream",
          "text": [
            "/usr/local/lib/python3.6/dist-packages/rpy2/rinterface/__init__.py:146: RRuntimeWarning: Installing package into ‘/usr/local/lib/R/site-library’\n",
            "(as ‘lib’ is unspecified)\n",
            "\n",
            "  warnings.warn(x, RRuntimeWarning)\n",
            "/usr/local/lib/python3.6/dist-packages/rpy2/rinterface/__init__.py:146: RRuntimeWarning: trying URL 'https://cran.rstudio.com/src/contrib/ROCR_1.0-7.tar.gz'\n",
            "\n",
            "  warnings.warn(x, RRuntimeWarning)\n",
            "/usr/local/lib/python3.6/dist-packages/rpy2/rinterface/__init__.py:146: RRuntimeWarning: Content type 'application/x-gzip'\n",
            "  warnings.warn(x, RRuntimeWarning)\n",
            "/usr/local/lib/python3.6/dist-packages/rpy2/rinterface/__init__.py:146: RRuntimeWarning:  length 107872 bytes (105 KB)\n",
            "\n",
            "  warnings.warn(x, RRuntimeWarning)\n",
            "/usr/local/lib/python3.6/dist-packages/rpy2/rinterface/__init__.py:146: RRuntimeWarning: =\n",
            "  warnings.warn(x, RRuntimeWarning)\n",
            "/usr/local/lib/python3.6/dist-packages/rpy2/rinterface/__init__.py:146: RRuntimeWarning: \n",
            "\n",
            "  warnings.warn(x, RRuntimeWarning)\n",
            "/usr/local/lib/python3.6/dist-packages/rpy2/rinterface/__init__.py:146: RRuntimeWarning: downloaded 105 KB\n",
            "\n",
            "\n",
            "  warnings.warn(x, RRuntimeWarning)\n",
            "/usr/local/lib/python3.6/dist-packages/rpy2/rinterface/__init__.py:146: RRuntimeWarning: \n",
            "  warnings.warn(x, RRuntimeWarning)\n",
            "/usr/local/lib/python3.6/dist-packages/rpy2/rinterface/__init__.py:146: RRuntimeWarning: The downloaded source packages are in\n",
            "\t‘/tmp/RtmpvEfgFs/downloaded_packages’\n",
            "  warnings.warn(x, RRuntimeWarning)\n"
          ],
          "name": "stderr"
        },
        {
          "output_type": "display_data",
          "data": {
            "text/plain": [
              "[1] 0.7055267\n"
            ]
          },
          "metadata": {
            "tags": []
          }
        }
      ]
    },
    {
      "cell_type": "code",
      "metadata": {
        "id": "issSTRqml6gu",
        "colab_type": "code",
        "colab": {}
      },
      "source": [
        "# Calculates the threshold value for 80 percent true prediction rate\n",
        "\n",
        "%%R\n",
        "\n",
        "ROCRperf = performance(ROCRpred, \"tpr\", \"fpr\")\n",
        "\n",
        "# plot(ROCRperf, main = \"People who prefer warmer\",colorize = TRUE, print.cutoffs.at = seq(0,1,0.1),text.adj = c(-0.2,1.7))\n",
        "cutoffs <- data.frame(cut=ROCRperf@alpha.values[[1]], fpr=ROCRperf@x.values[[1]], tpr=ROCRperf@y.values[[1]])\n",
        "\n",
        "cutoffs <- cutoffs[order(cutoffs$tpr, decreasing=TRUE),]\n",
        "\n",
        "cutoffFor80Tpr = head(subset(cutoffs, tpr <= 0.8))[1,1] "
      ],
      "execution_count": 0,
      "outputs": []
    },
    {
      "cell_type": "code",
      "metadata": {
        "id": "1MlmDcQmVaFY",
        "colab_type": "code",
        "colab": {
          "base_uri": "https://localhost:8080/",
          "height": 85
        },
        "outputId": "462d11ff-4245-4d2e-878b-35187ac38ec3"
      },
      "source": [
        "# This cell is supposed to create the confusion matrix for 80% tpr\n",
        "\n",
        "%%R\n",
        "\n",
        "predictTest = predict(TCLogModel, type = \"response\", newdata = Test)\n",
        "\n",
        "table(Test$cooler, predictTest > cutoffFor80Tpr)"
      ],
      "execution_count": 99,
      "outputs": [
        {
          "output_type": "display_data",
          "data": {
            "text/plain": [
              "   \n",
              "    FALSE TRUE\n",
              "  0   237  356\n",
              "  1    12   41\n"
            ]
          },
          "metadata": {
            "tags": []
          }
        }
      ]
    },
    {
      "cell_type": "code",
      "metadata": {
        "id": "aIs4t9FiV_q3",
        "colab_type": "code",
        "colab": {}
      },
      "source": [
        "# R code for creating a ROC curve. This is not working for me now, and I am not\n",
        "# concerned with fixing it, since producing an ROC curve is not the purpose of this code.\n",
        "\n",
        "%%R\n",
        "\n",
        "ROCRperf = performance(ROCRpred, \"tpr\", \"fpr\")\n",
        "png(filename=\"cooler.png\", width=500, bg=\"white\")\n",
        "par(mar=c(5,5,5,5)+.1)\n",
        "par(cex.axis=2)\n",
        "plot(ROCRperf, main = \"People who prefer cooler\",colorize = TRUE, text.adj = c(-0.2,1.7),las=1, cex.lab=3, cex.axis=100, cex.main=3, cex.sub=10)"
      ],
      "execution_count": 0,
      "outputs": []
    },
    {
      "cell_type": "markdown",
      "metadata": {
        "id": "sGeOyYHx9RqV",
        "colab_type": "text"
      },
      "source": [
        "### End of prefer cooler classifier code"
      ]
    },
    {
      "cell_type": "markdown",
      "metadata": {
        "id": "vHANhI9gW4f7",
        "colab_type": "text"
      },
      "source": [
        "## Prefer Warmer Classifier\n",
        "\n",
        "This is identical code to the cooler classifier, and the comments there apply here as well. "
      ]
    },
    {
      "cell_type": "code",
      "metadata": {
        "id": "c1AldfXwaDgW",
        "colab_type": "code",
        "colab": {}
      },
      "source": [
        "%%R\n",
        "TCDBII = read.csv(\"DBII.csv\", fileEncoding=\"latin1\")\n",
        "\n",
        "TCDBII = TCDBII[!is.na(TCDBII$Thermal.sensation.acceptability), ]\n",
        "TCDBII = TCDBII[!is.na(TCDBII$Thermal.preference), ]\n",
        "\n",
        "TCDBII = TCDBII[!(TCDBII$Thermal.sensation.acceptability==\"\"),]\n",
        "TCDBII = TCDBII[!(TCDBII$Thermal.preference==\"\"),]\n",
        "\n",
        "write.csv(TCDBII, file = \"Checkpoint1.csv\")"
      ],
      "execution_count": 0,
      "outputs": []
    },
    {
      "cell_type": "code",
      "metadata": {
        "id": "NakPBp74aPb7",
        "colab_type": "code",
        "colab": {}
      },
      "source": [
        "TCDBII = pd.read_csv('Checkpoint1.csv')\n",
        "# TCDBII = pd.read_csv('Checkpoint2.csv')\n",
        "\n",
        "TCDBII = TCDBII[['Thermal.sensation.acceptability',\n",
        "                 'Thermal.preference',\n",
        "                 \"Clo\",\n",
        "                  \"Met\" ,\n",
        "                  \"Air.temperature...C.\",\n",
        "                  \"Radiant.temperature...C.\",\n",
        "                  \"Relative.humidity....\"               ,\n",
        "                  \"Air.velocity..m.s.\"                ,\n",
        "                  \"Climate\"                             ,\n",
        "                  \"Country\" ,\n",
        "                  \"Building.type\"                       ,\n",
        "                  \"Age\"                                 ,\n",
        "                  \"Sex\"                                 ,\n",
        "                  \"Ta_h...C.\"  ,\n",
        "                  \"Ta_m...C.\"                           ,\n",
        "                  \"Ta_l...C.\"                           ,\n",
        "                  \"Globe.temperature...C.\"              ,\n",
        "                  \"Tg_h...C.\"               ,\n",
        "                  \"Tg_m...C.\"                           ,\n",
        "                  \"Tg_l...C.\"                           ,\n",
        "                  \"Velocity_h..m.s.\"                    ,\n",
        "                  \"Velocity_m..m.s.\"                    ,\n",
        "                  \"Velocity_l..m.s.\"                    ,\n",
        "                  \"Subject.s.height..cm.\"               ,\n",
        "                  \"Subject.s.weight..kg.\"               ,\n",
        "                  \"Blind..curtain.\"                     ,\n",
        "                  \"Fan\"                                 ,\n",
        "                  \"Window\"                              ,\n",
        "                  \"Door\"                                ,\n",
        "                  \"Heater\"                              ,\n",
        "                  \"Outdoor.monthly.air.temperature...C.\"]]\n",
        "\n",
        "\n",
        "# TCDBII.columns = [\n",
        "#                   'Thermal sensation acceptability', 'Thermal preference',\n",
        "#                   \"Clothing Insulation\",\n",
        "#     \"Metabolic Rate\",\n",
        "#     \"Air temperature [°C]\",\n",
        "#     \"Radiant temperature [°C]\",\n",
        "#     \"Relative humidity\",\n",
        "#     \"Air velocity [m/s]\",\n",
        "#     \"Climate\",\n",
        "#     \"Country\",\n",
        "#     \"Building type\",\n",
        "#      \"Age\"  ,\n",
        "#     \"Sex\",\n",
        "#     \"Ta_h [°C]\",\n",
        "#     \"Ta_m [°C]\",\n",
        "#     \"Ta_l [°C]\",\n",
        "#     \"Globe temperature [°C]\",\n",
        "#     \"Tg_h [°C]\",\n",
        "#     \"Tg_m [°C]\",\n",
        "#     \"Tg_l [°C]\",\n",
        "#     \"Velocity_h [m/s]\",\n",
        "#     \"Velocity_m [m/s]\",\n",
        "#     \"Velocity_l [m/s]\" ,\n",
        "#     \"Subject's weight [kg]\",\n",
        "#     \"Subject's height [cm]\" ,\n",
        "#     \"Blind/curtain\",\n",
        "#     \"Fan\",\n",
        "#     \"Window\",\n",
        "#     \"Door\",\n",
        "#     \"Heater\" ,\n",
        "#     \"Outdoor monthly air temperature [°C]\"\n",
        "# ]\n",
        "\n",
        "TCDBII = TCDBII[[\n",
        "                 'Thermal.sensation.acceptability',\n",
        "                 'Thermal.preference',\n",
        "                 \"Clo\",\n",
        "                #  \"Air.temperature...C.\",\n",
        "                 \"Air.velocity..m.s.\"                ,\n",
        "                #  \"Tg_h...C.\"               ,\n",
        "\n",
        "                #  \"Clo\" ,\n",
        "                 \"Radiant.temperature...C.\",\n",
        "                #  \"Tg_h...C.\",\n",
        "                 \"Ta_h...C.\",\n",
        "                #  \"Sex\"\n",
        "                 ]]\n",
        "\n",
        "# TCDBII.applymap(testNonNumeric)\n",
        "TCDBII = TCDBII.dropna(axis=0, how= 'any')\n",
        "TCDBII.to_csv(\"Checkpoint2.csv\")\n"
      ],
      "execution_count": 0,
      "outputs": []
    },
    {
      "cell_type": "code",
      "metadata": {
        "id": "EifGeSnXaQ8m",
        "colab_type": "code",
        "colab": {}
      },
      "source": [
        "%%R\n",
        "# This cell exists because the last cell read/wrote to a Python variable but R was not updated\n",
        "\n",
        "TCDBII = read.csv(\"Checkpoint2.csv\")"
      ],
      "execution_count": 0,
      "outputs": []
    },
    {
      "cell_type": "code",
      "metadata": {
        "id": "yjF6bkwZaiI0",
        "colab_type": "code",
        "colab": {
          "base_uri": "https://localhost:8080/",
          "height": 119
        },
        "outputId": "b1dfc86a-f93c-4523-bcaa-75cbf2ecf01f"
      },
      "source": [
        "%%R\n",
        "# imputed\n",
        "\n",
        "imputed = read.csv(\"Checkpoint2.csv\")\n",
        "\n",
        "drop <- c(\"TCDBII.Thermal.sensation\",\n",
        "          \"Thermal.sensation\",\n",
        "          \"Heater\",\n",
        "          \"Thermal.sensation.acceptability\"     ,\n",
        "          \"Thermal.preference\"                  ,\n",
        "          \"Air.movement.acceptability\"          ,\n",
        "          \"Air.movement.preference\"             ,\n",
        "          \"Thermal.comfort\"                     ,\n",
        "          \"PMV\"                                 ,\n",
        "          \"PPD\"                                 ,\n",
        "          \"SET\"                                 )\n",
        "\n",
        "imputed = imputed[,!(names(imputed) %in% drop)]\n",
        "\n",
        "str(imputed)\n"
      ],
      "execution_count": 104,
      "outputs": [
        {
          "output_type": "display_data",
          "data": {
            "text/plain": [
              "'data.frame':\t3230 obs. of  5 variables:\n",
              " $ X                       : int  13299 13300 13301 13302 13303 13304 13305 13306 13307 13308 ...\n",
              " $ Clo                     : num  0.4 0.9 0.5 0.5 0.4 0.5 1.1 0.5 1.1 0.4 ...\n",
              " $ Air.velocity..m.s.      : num  0.09 0.07 0.1 0.13 0.1 0.09 0.21 0.1 0.14 0.11 ...\n",
              " $ Radiant.temperature...C.: num  23.4 23.3 23.3 22.6 22.1 22.5 22.2 23.9 23.3 22.5 ...\n",
              " $ Ta_h...C.               : num  23.8 24.1 24 23 23 23 23 24.5 22.2 22.7 ...\n"
            ]
          },
          "metadata": {
            "tags": []
          }
        }
      ]
    },
    {
      "cell_type": "code",
      "metadata": {
        "id": "L_hpZt9WapOF",
        "colab_type": "code",
        "colab": {
          "base_uri": "https://localhost:8080/",
          "height": 765
        },
        "outputId": "32fbdfaf-0e58-4913-b6dd-461021c6a487"
      },
      "source": [
        "%%R\n",
        "# imputed\n",
        "\n",
        "imputed = read.csv(\"Checkpoint2.csv\")\n",
        "\n",
        "# drop <- c(\"TCDBII$Thermal.sensation\", \"Heater\",\"Blind..curtain.\")\n",
        "drop <- c(\"TCDBII.Thermal.sensation\",\n",
        "          \"Thermal.sensation\",\n",
        "          \"Heater\",\n",
        "          \"Thermal.sensation.acceptability\"     ,\n",
        "          \"Thermal.preference\"                  ,\n",
        "          \"Air.movement.acceptability\"          ,\n",
        "          \"Air.movement.preference\"             ,\n",
        "          \"Thermal.comfort\"                     ,\n",
        "          \"PMV\"                                 ,\n",
        "          \"PPD\"                                 ,\n",
        "          \"SET\"                                 )\n",
        "\n",
        "imputed = imputed[,!(names(imputed) %in% drop)]\n",
        "\n",
        "install.packages(\"mltools\")\n",
        "library(mltools)\n",
        "library(data.table)\n",
        "\n",
        "imputed = one_hot(as.data.table(imputed, keep.rownames=TRUE), dropCols = TRUE, dropUnusedLevels = FALSE)\n",
        "names(imputed)<-make.names(names(imputed),unique = TRUE)\n",
        "impute<-imputed[ , colSums(is.na(imputed)) == 0]\n",
        "str(imputed)\n",
        "\n",
        "imputed <- cbind(imputed, Thermal.acceptability = TCDBII$Thermal.sensation.acceptability)\n",
        "imputed <- cbind(imputed, Thermal.preference =TCDBII$Thermal.preference)\n",
        "\n",
        "colnames(imputed)\n",
        "\n",
        "str(imputed)"
      ],
      "execution_count": 105,
      "outputs": [
        {
          "output_type": "stream",
          "text": [
            "/usr/local/lib/python3.6/dist-packages/rpy2/rinterface/__init__.py:146: RRuntimeWarning: Installing package into ‘/usr/local/lib/R/site-library’\n",
            "(as ‘lib’ is unspecified)\n",
            "\n",
            "  warnings.warn(x, RRuntimeWarning)\n",
            "/usr/local/lib/python3.6/dist-packages/rpy2/rinterface/__init__.py:146: RRuntimeWarning: trying URL 'https://cran.rstudio.com/src/contrib/mltools_0.3.5.tar.gz'\n",
            "\n",
            "  warnings.warn(x, RRuntimeWarning)\n",
            "/usr/local/lib/python3.6/dist-packages/rpy2/rinterface/__init__.py:146: RRuntimeWarning: Content type 'application/x-gzip'\n",
            "  warnings.warn(x, RRuntimeWarning)\n",
            "/usr/local/lib/python3.6/dist-packages/rpy2/rinterface/__init__.py:146: RRuntimeWarning:  length 32471 bytes (31 KB)\n",
            "\n",
            "  warnings.warn(x, RRuntimeWarning)\n",
            "/usr/local/lib/python3.6/dist-packages/rpy2/rinterface/__init__.py:146: RRuntimeWarning: =\n",
            "  warnings.warn(x, RRuntimeWarning)\n",
            "/usr/local/lib/python3.6/dist-packages/rpy2/rinterface/__init__.py:146: RRuntimeWarning: \n",
            "\n",
            "  warnings.warn(x, RRuntimeWarning)\n",
            "/usr/local/lib/python3.6/dist-packages/rpy2/rinterface/__init__.py:146: RRuntimeWarning: downloaded 31 KB\n",
            "\n",
            "\n",
            "  warnings.warn(x, RRuntimeWarning)\n",
            "/usr/local/lib/python3.6/dist-packages/rpy2/rinterface/__init__.py:146: RRuntimeWarning: \n",
            "  warnings.warn(x, RRuntimeWarning)\n",
            "/usr/local/lib/python3.6/dist-packages/rpy2/rinterface/__init__.py:146: RRuntimeWarning: The downloaded source packages are in\n",
            "\t‘/tmp/RtmpvEfgFs/downloaded_packages’\n",
            "  warnings.warn(x, RRuntimeWarning)\n"
          ],
          "name": "stderr"
        },
        {
          "output_type": "display_data",
          "data": {
            "text/plain": [
              "Classes ‘data.table’ and 'data.frame':\t3230 obs. of  6 variables:\n",
              " $ rn                      : chr  \"1\" \"2\" \"3\" \"4\" ...\n",
              " $ X                       : int  13299 13300 13301 13302 13303 13304 13305 13306 13307 13308 ...\n",
              " $ Clo                     : num  0.4 0.9 0.5 0.5 0.4 0.5 1.1 0.5 1.1 0.4 ...\n",
              " $ Air.velocity..m.s.      : num  0.09 0.07 0.1 0.13 0.1 0.09 0.21 0.1 0.14 0.11 ...\n",
              " $ Radiant.temperature...C.: num  23.4 23.3 23.3 22.6 22.1 22.5 22.2 23.9 23.3 22.5 ...\n",
              " $ Ta_h...C.               : num  23.8 24.1 24 23 23 23 23 24.5 22.2 22.7 ...\n",
              " - attr(*, \".internal.selfref\")=<externalptr> \n",
              "Classes ‘data.table’ and 'data.frame':\t3230 obs. of  8 variables:\n",
              " $ rn                      : chr  \"1\" \"2\" \"3\" \"4\" ...\n",
              " $ X                       : int  13299 13300 13301 13302 13303 13304 13305 13306 13307 13308 ...\n",
              " $ Clo                     : num  0.4 0.9 0.5 0.5 0.4 0.5 1.1 0.5 1.1 0.4 ...\n",
              " $ Air.velocity..m.s.      : num  0.09 0.07 0.1 0.13 0.1 0.09 0.21 0.1 0.14 0.11 ...\n",
              " $ Radiant.temperature...C.: num  23.4 23.3 23.3 22.6 22.1 22.5 22.2 23.9 23.3 22.5 ...\n",
              " $ Ta_h...C.               : num  23.8 24.1 24 23 23 23 23 24.5 22.2 22.7 ...\n",
              " $ Thermal.acceptability   : int  1 1 1 1 1 1 1 1 1 1 ...\n",
              " $ Thermal.preference      : Factor w/ 3 levels \"cooler\",\"no change\",..: 1 2 2 2 3 2 2 1 3 2 ...\n",
              " - attr(*, \".internal.selfref\")=<externalptr> \n"
            ]
          },
          "metadata": {
            "tags": []
          }
        }
      ]
    },
    {
      "cell_type": "code",
      "metadata": {
        "id": "vJZp0wAZasZc",
        "colab_type": "code",
        "colab": {}
      },
      "source": [
        "%%R\n",
        "\n",
        "write.csv(imputed, file = \"Checkpoint3.csv\")"
      ],
      "execution_count": 0,
      "outputs": []
    },
    {
      "cell_type": "code",
      "metadata": {
        "id": "XT4vP9TiYRdB",
        "colab_type": "code",
        "colab": {
          "base_uri": "https://localhost:8080/",
          "height": 68
        },
        "outputId": "4e5c0ebc-a691-4809-c661-7e006ed668cc"
      },
      "source": [
        "classifier = pd.read_csv(\"Checkpoint3.csv\")\n",
        "classifier['Thermal.preference'] = classifier['Thermal.preference'].apply(lambda row: 1 if row == 'warmer' else 0)\n",
        "# 1 is if  unnacceptable and prefer warmer\n",
        "classifier['warmer'] = np.where((classifier['Thermal.acceptability'] == 0) & (classifier['Thermal.preference'] == 1), 1, 0)\n",
        "# Thermal acceptability : If 0, unacceptable\n",
        "classifier = classifier.drop([\"Unnamed: 0\",'rn', 'X'],axis = 'columns')\n",
        "classifier = classifier.drop(['Thermal.acceptability', 'Thermal.preference'], axis=1)\n",
        "\n",
        "classifier['warmer'].value_counts()"
      ],
      "execution_count": 107,
      "outputs": [
        {
          "output_type": "execute_result",
          "data": {
            "text/plain": [
              "0    3002\n",
              "1    228 \n",
              "Name: warmer, dtype: int64"
            ]
          },
          "metadata": {
            "tags": []
          },
          "execution_count": 107
        }
      ]
    },
    {
      "cell_type": "code",
      "metadata": {
        "id": "pFZBBfB-Y_DU",
        "colab_type": "code",
        "colab": {
          "base_uri": "https://localhost:8080/",
          "height": 419
        },
        "outputId": "e57e832e-d4eb-4d39-c53d-dfefaf797176"
      },
      "source": [
        "classifier"
      ],
      "execution_count": 108,
      "outputs": [
        {
          "output_type": "execute_result",
          "data": {
            "text/html": [
              "<div>\n",
              "<style scoped>\n",
              "    .dataframe tbody tr th:only-of-type {\n",
              "        vertical-align: middle;\n",
              "    }\n",
              "\n",
              "    .dataframe tbody tr th {\n",
              "        vertical-align: top;\n",
              "    }\n",
              "\n",
              "    .dataframe thead th {\n",
              "        text-align: right;\n",
              "    }\n",
              "</style>\n",
              "<table border=\"1\" class=\"dataframe\">\n",
              "  <thead>\n",
              "    <tr style=\"text-align: right;\">\n",
              "      <th></th>\n",
              "      <th>Clo</th>\n",
              "      <th>Air.velocity..m.s.</th>\n",
              "      <th>Radiant.temperature...C.</th>\n",
              "      <th>Ta_h...C.</th>\n",
              "      <th>warmer</th>\n",
              "    </tr>\n",
              "  </thead>\n",
              "  <tbody>\n",
              "    <tr>\n",
              "      <th>0</th>\n",
              "      <td>0.40</td>\n",
              "      <td>0.09</td>\n",
              "      <td>23.4</td>\n",
              "      <td>23.8</td>\n",
              "      <td>0</td>\n",
              "    </tr>\n",
              "    <tr>\n",
              "      <th>1</th>\n",
              "      <td>0.90</td>\n",
              "      <td>0.07</td>\n",
              "      <td>23.3</td>\n",
              "      <td>24.1</td>\n",
              "      <td>0</td>\n",
              "    </tr>\n",
              "    <tr>\n",
              "      <th>2</th>\n",
              "      <td>0.50</td>\n",
              "      <td>0.10</td>\n",
              "      <td>23.3</td>\n",
              "      <td>24.0</td>\n",
              "      <td>0</td>\n",
              "    </tr>\n",
              "    <tr>\n",
              "      <th>3</th>\n",
              "      <td>0.50</td>\n",
              "      <td>0.13</td>\n",
              "      <td>22.6</td>\n",
              "      <td>23.0</td>\n",
              "      <td>0</td>\n",
              "    </tr>\n",
              "    <tr>\n",
              "      <th>4</th>\n",
              "      <td>0.40</td>\n",
              "      <td>0.10</td>\n",
              "      <td>22.1</td>\n",
              "      <td>23.0</td>\n",
              "      <td>0</td>\n",
              "    </tr>\n",
              "    <tr>\n",
              "      <th>...</th>\n",
              "      <td>...</td>\n",
              "      <td>...</td>\n",
              "      <td>...</td>\n",
              "      <td>...</td>\n",
              "      <td>...</td>\n",
              "    </tr>\n",
              "    <tr>\n",
              "      <th>3225</th>\n",
              "      <td>0.41</td>\n",
              "      <td>0.15</td>\n",
              "      <td>24.2</td>\n",
              "      <td>23.6</td>\n",
              "      <td>0</td>\n",
              "    </tr>\n",
              "    <tr>\n",
              "      <th>3226</th>\n",
              "      <td>0.45</td>\n",
              "      <td>0.17</td>\n",
              "      <td>23.5</td>\n",
              "      <td>23.1</td>\n",
              "      <td>0</td>\n",
              "    </tr>\n",
              "    <tr>\n",
              "      <th>3227</th>\n",
              "      <td>0.24</td>\n",
              "      <td>0.07</td>\n",
              "      <td>23.7</td>\n",
              "      <td>23.7</td>\n",
              "      <td>0</td>\n",
              "    </tr>\n",
              "    <tr>\n",
              "      <th>3228</th>\n",
              "      <td>0.29</td>\n",
              "      <td>0.11</td>\n",
              "      <td>24.5</td>\n",
              "      <td>24.5</td>\n",
              "      <td>0</td>\n",
              "    </tr>\n",
              "    <tr>\n",
              "      <th>3229</th>\n",
              "      <td>0.29</td>\n",
              "      <td>0.12</td>\n",
              "      <td>24.7</td>\n",
              "      <td>24.4</td>\n",
              "      <td>0</td>\n",
              "    </tr>\n",
              "  </tbody>\n",
              "</table>\n",
              "<p>3230 rows × 5 columns</p>\n",
              "</div>"
            ],
            "text/plain": [
              "       Clo  Air.velocity..m.s.  Radiant.temperature...C.  Ta_h...C.  warmer\n",
              "0     0.40  0.09                23.4                      23.8       0     \n",
              "1     0.90  0.07                23.3                      24.1       0     \n",
              "2     0.50  0.10                23.3                      24.0       0     \n",
              "3     0.50  0.13                22.6                      23.0       0     \n",
              "4     0.40  0.10                22.1                      23.0       0     \n",
              "...    ...   ...                 ...                       ...      ..     \n",
              "3225  0.41  0.15                24.2                      23.6       0     \n",
              "3226  0.45  0.17                23.5                      23.1       0     \n",
              "3227  0.24  0.07                23.7                      23.7       0     \n",
              "3228  0.29  0.11                24.5                      24.5       0     \n",
              "3229  0.29  0.12                24.7                      24.4       0     \n",
              "\n",
              "[3230 rows x 5 columns]"
            ]
          },
          "metadata": {
            "tags": []
          },
          "execution_count": 108
        }
      ]
    },
    {
      "cell_type": "code",
      "metadata": {
        "id": "xgTf1ssEZCGR",
        "colab_type": "code",
        "colab": {
          "base_uri": "https://localhost:8080/",
          "height": 170
        },
        "outputId": "b9dd8059-3bf3-4c84-a8d7-93013ed439e7"
      },
      "source": [
        "## Dropping highly correlated features\n",
        "\n",
        "df = classifier\n",
        "\n",
        "# Create correlation matrix\n",
        "corr_matrix = df.corr().abs()\n",
        "corr_matrix.to_csv(\"warmerclassifierCorrelation.csv\", index=False)\n",
        "\n",
        "# Select upper triangle of correlation matrix\n",
        "upper = corr_matrix.where(np.triu(np.ones(corr_matrix.shape), k=1).astype(np.bool))\n",
        "\n",
        "# Find index of feature columns with correlation greater than 0.9\n",
        "to_drop = [column for column in upper.columns if any(upper[column] > 0.9)]\n",
        "\n",
        "print(corr_matrix)\n",
        "\n",
        "# Drop features \n",
        "df = df.drop(df[to_drop], axis=1)\n",
        "\n",
        "print(\"Highly correlated variables being dropped: \", to_drop)\n",
        "\n",
        "classifier = df\n",
        "classifier.to_csv(\"Checkpoint4.csv\", index=False)"
      ],
      "execution_count": 109,
      "outputs": [
        {
          "output_type": "stream",
          "text": [
            "                               Clo  Air.velocity..m.s.  ...  Ta_h...C.    warmer\n",
            "Clo                       1.000000  0.211938            ...  0.226024   0.077302\n",
            "Air.velocity..m.s.        0.211938  1.000000            ...  0.084066   0.030975\n",
            "Radiant.temperature...C.  0.403604  0.199268            ...  0.870296   0.153872\n",
            "Ta_h...C.                 0.226024  0.084066            ...  1.000000   0.153843\n",
            "warmer                    0.077302  0.030975            ...  0.153843   1.000000\n",
            "\n",
            "[5 rows x 5 columns]\n",
            "Highly correlated variables being dropped:  []\n"
          ],
          "name": "stdout"
        }
      ]
    },
    {
      "cell_type": "code",
      "metadata": {
        "id": "s6wSLLynp4BR",
        "colab_type": "code",
        "colab": {}
      },
      "source": [
        "forML = pd.read_csv(\"Checkpoint4.csv\")\n",
        "forML=forML.dropna(axis='columns')\n",
        "forML.to_csv(\"Checkpoint4.csv\",index=False)"
      ],
      "execution_count": 0,
      "outputs": []
    },
    {
      "cell_type": "code",
      "metadata": {
        "id": "n9HCWuWPcX90",
        "colab_type": "code",
        "colab": {
          "base_uri": "https://localhost:8080/",
          "height": 68
        },
        "outputId": "367c3697-32e0-4473-f4c3-000778bd45e3"
      },
      "source": [
        "test = pd.read_csv(\"Checkpoint4.csv\")\n",
        "\n",
        "test['warmer'].value_counts()"
      ],
      "execution_count": 111,
      "outputs": [
        {
          "output_type": "execute_result",
          "data": {
            "text/plain": [
              "0    3002\n",
              "1    228 \n",
              "Name: warmer, dtype: int64"
            ]
          },
          "metadata": {
            "tags": []
          },
          "execution_count": 111
        }
      ]
    },
    {
      "cell_type": "code",
      "metadata": {
        "id": "z_weFyzPZNjs",
        "colab_type": "code",
        "colab": {
          "base_uri": "https://localhost:8080/",
          "height": 901
        },
        "outputId": "448f6982-6622-41ae-953e-1697e65bc8f0"
      },
      "source": [
        "%%R\n",
        "\n",
        "TCLog = read.csv(\"Checkpoint4.csv\")\n",
        "install.packages(\"caTools\")\n",
        "library(caTools)\n",
        "set.seed(1000)\n",
        "split = sample.split(TCLog$warmer, SplitRatio = 0.8)\n",
        "Train = subset(TCLog, split == TRUE)\n",
        "Test = subset(TCLog, split == FALSE)\n",
        "TCLogModel = glm(warmer ~ ., data = Train, family = binomial)\n",
        "\n",
        "predictTest = predict(TCLogModel, type = \"response\", newdata = Test)\n",
        "\n",
        "summary(TCLogModel)"
      ],
      "execution_count": 112,
      "outputs": [
        {
          "output_type": "stream",
          "text": [
            "/usr/local/lib/python3.6/dist-packages/rpy2/rinterface/__init__.py:146: RRuntimeWarning: Installing package into ‘/usr/local/lib/R/site-library’\n",
            "(as ‘lib’ is unspecified)\n",
            "\n",
            "  warnings.warn(x, RRuntimeWarning)\n",
            "/usr/local/lib/python3.6/dist-packages/rpy2/rinterface/__init__.py:146: RRuntimeWarning: trying URL 'https://cran.rstudio.com/src/contrib/caTools_1.18.0.tar.gz'\n",
            "\n",
            "  warnings.warn(x, RRuntimeWarning)\n",
            "/usr/local/lib/python3.6/dist-packages/rpy2/rinterface/__init__.py:146: RRuntimeWarning: Content type 'application/x-gzip'\n",
            "  warnings.warn(x, RRuntimeWarning)\n",
            "/usr/local/lib/python3.6/dist-packages/rpy2/rinterface/__init__.py:146: RRuntimeWarning:  length 64577 bytes (63 KB)\n",
            "\n",
            "  warnings.warn(x, RRuntimeWarning)\n",
            "/usr/local/lib/python3.6/dist-packages/rpy2/rinterface/__init__.py:146: RRuntimeWarning: =\n",
            "  warnings.warn(x, RRuntimeWarning)\n",
            "/usr/local/lib/python3.6/dist-packages/rpy2/rinterface/__init__.py:146: RRuntimeWarning: \n",
            "\n",
            "  warnings.warn(x, RRuntimeWarning)\n",
            "/usr/local/lib/python3.6/dist-packages/rpy2/rinterface/__init__.py:146: RRuntimeWarning: downloaded 63 KB\n",
            "\n",
            "\n",
            "  warnings.warn(x, RRuntimeWarning)\n",
            "/usr/local/lib/python3.6/dist-packages/rpy2/rinterface/__init__.py:146: RRuntimeWarning: \n",
            "  warnings.warn(x, RRuntimeWarning)\n",
            "/usr/local/lib/python3.6/dist-packages/rpy2/rinterface/__init__.py:146: RRuntimeWarning: The downloaded source packages are in\n",
            "\t‘/tmp/RtmpvEfgFs/downloaded_packages’\n",
            "  warnings.warn(x, RRuntimeWarning)\n"
          ],
          "name": "stderr"
        },
        {
          "output_type": "display_data",
          "data": {
            "text/plain": [
              "\n",
              "Call:\n",
              "glm(formula = warmer ~ ., family = binomial, data = Train)\n",
              "\n",
              "Deviance Residuals: \n",
              "    Min       1Q   Median       3Q      Max  \n",
              "-1.2884  -0.4082  -0.3433  -0.2817   2.8014  \n",
              "\n",
              "Coefficients:\n",
              "                         Estimate Std. Error z value Pr(>|z|)    \n",
              "(Intercept)                7.0015     1.5054   4.651  3.3e-06 ***\n",
              "Clo                        0.4814     0.3330   1.446   0.1483    \n",
              "Air.velocity..m.s.        -2.5930     1.9514  -1.329   0.1839    \n",
              "Radiant.temperature...C.  -0.1273     0.1606  -0.793   0.4280    \n",
              "Ta_h...C.                 -0.2887     0.1491  -1.937   0.0528 .  \n",
              "---\n",
              "Signif. codes:  0 ‘***’ 0.001 ‘**’ 0.01 ‘*’ 0.05 ‘.’ 0.1 ‘ ’ 1\n",
              "\n",
              "(Dispersion parameter for binomial family taken to be 1)\n",
              "\n",
              "    Null deviance: 1316.6  on 2583  degrees of freedom\n",
              "Residual deviance: 1251.8  on 2579  degrees of freedom\n",
              "AIC: 1261.8\n",
              "\n",
              "Number of Fisher Scoring iterations: 5\n",
              "\n"
            ]
          },
          "metadata": {
            "tags": []
          }
        }
      ]
    },
    {
      "cell_type": "code",
      "metadata": {
        "id": "KSFadayO4_GK",
        "colab_type": "code",
        "colab": {}
      },
      "source": [
        "%%R\n",
        "\n",
        "write.csv(summary(TCLogModel)$coefficients, file = \"WarmerClassifierSummary.csv\")"
      ],
      "execution_count": 0,
      "outputs": []
    },
    {
      "cell_type": "code",
      "metadata": {
        "id": "_Tr1B4O5bz5s",
        "colab_type": "code",
        "colab": {
          "base_uri": "https://localhost:8080/",
          "height": 204
        },
        "outputId": "6ad8f0ed-d4ae-4c09-c6af-b115bdf1a909"
      },
      "source": [
        "%%R\n",
        "install.packages(\"ROCR\")\n",
        "library(ROCR)\n",
        "ROCRpred = prediction(predictTest, Test$warmer)\n",
        "as.numeric(performance(ROCRpred, \"auc\")@y.values)"
      ],
      "execution_count": 114,
      "outputs": [
        {
          "output_type": "stream",
          "text": [
            "/usr/local/lib/python3.6/dist-packages/rpy2/rinterface/__init__.py:146: RRuntimeWarning: trying URL 'https://cran.rstudio.com/src/contrib/ROCR_1.0-7.tar.gz'\n",
            "\n",
            "  warnings.warn(x, RRuntimeWarning)\n",
            "/usr/local/lib/python3.6/dist-packages/rpy2/rinterface/__init__.py:146: RRuntimeWarning:  length 107872 bytes (105 KB)\n",
            "\n",
            "  warnings.warn(x, RRuntimeWarning)\n",
            "/usr/local/lib/python3.6/dist-packages/rpy2/rinterface/__init__.py:146: RRuntimeWarning: downloaded 105 KB\n",
            "\n",
            "\n",
            "  warnings.warn(x, RRuntimeWarning)\n"
          ],
          "name": "stderr"
        },
        {
          "output_type": "display_data",
          "data": {
            "text/plain": [
              "[1] 0.6735507\n"
            ]
          },
          "metadata": {
            "tags": []
          }
        }
      ]
    },
    {
      "cell_type": "code",
      "metadata": {
        "id": "GGiL4Cryb9JB",
        "colab_type": "code",
        "colab": {
          "base_uri": "https://localhost:8080/",
          "height": 197
        },
        "outputId": "f789f3ae-25c5-499e-cd44-b21686f82326"
      },
      "source": [
        "# Put this cell where you want to make colab throw a fit. \n",
        "# Stops the workflow. \n",
        "# Not the best Debugging tool in the world. \n",
        "\n",
        "# Hint: Run all cells after uploading the DBII.csv with (Ctrl/Cmd + F9)\n",
        "\n",
        "\n",
        "Error"
      ],
      "execution_count": 115,
      "outputs": [
        {
          "output_type": "error",
          "ename": "NameError",
          "evalue": "ignored",
          "traceback": [
            "\u001b[0;31m---------------------------------------------------------------------------\u001b[0m",
            "\u001b[0;31mNameError\u001b[0m                                 Traceback (most recent call last)",
            "\u001b[0;32m<ipython-input-115-efa98df6962b>\u001b[0m in \u001b[0;36m<module>\u001b[0;34m()\u001b[0m\n\u001b[1;32m      1\u001b[0m \u001b[0;34m\u001b[0m\u001b[0m\n\u001b[1;32m      2\u001b[0m \u001b[0;34m\u001b[0m\u001b[0m\n\u001b[0;32m----> 3\u001b[0;31m \u001b[0mError\u001b[0m\u001b[0;34m\u001b[0m\u001b[0;34m\u001b[0m\u001b[0m\n\u001b[0m",
            "\u001b[0;31mNameError\u001b[0m: name 'Error' is not defined"
          ]
        }
      ]
    },
    {
      "cell_type": "code",
      "metadata": {
        "id": "T3ERCR6xR5ag",
        "colab_type": "code",
        "colab": {}
      },
      "source": [
        "%%R\n",
        "\n",
        "ROCRpred = prediction(predictTest, Test$warmer)\n",
        "ROCRperf = performance(ROCRpred, \"tpr\", \"fpr\")\n",
        "\n",
        "# plot(ROCRperf, main = \"People who prefer warmer\",colorize = TRUE, print.cutoffs.at = seq(0,1,0.1),text.adj = c(-0.2,1.7))\n",
        "cutoffs <- data.frame(cut=ROCRperf@alpha.values[[1]], fpr=ROCRperf@x.values[[1]], tpr=ROCRperf@y.values[[1]])\n",
        "cutoffs <- cutoffs[order(cutoffs$tpr, decreasing=TRUE),]\n",
        "head(subset(cutoffs, tpr <= 0.8))"
      ],
      "execution_count": 0,
      "outputs": []
    },
    {
      "cell_type": "code",
      "metadata": {
        "id": "G_I9_qsA_xHs",
        "colab_type": "code",
        "colab": {}
      },
      "source": [
        "%%R\n",
        "relevant.x"
      ],
      "execution_count": 0,
      "outputs": []
    },
    {
      "cell_type": "code",
      "metadata": {
        "id": "5axHPDmWZcWa",
        "colab_type": "code",
        "colab": {}
      },
      "source": [
        "%%R\n",
        "predictTest = predict(TCLogModel, type = \"response\", newdata = Test)\n",
        "recast_data = table(Test$warmer, predictTest > 0.093)\n",
        "# fwrite(recast_data, \"recast_data.csv\")\n",
        "recast_data"
      ],
      "execution_count": 0,
      "outputs": []
    },
    {
      "cell_type": "code",
      "metadata": {
        "id": "qyqyG8HbZstN",
        "colab_type": "code",
        "colab": {}
      },
      "source": [
        "%%R\n",
        "install.packages(\"ROCR\")\n",
        "library(ROCR)\n",
        "ROCRpred = prediction(predictTest, Test$warmer)\n",
        "as.numeric(performance(ROCRpred, \"auc\")@y.values)"
      ],
      "execution_count": 0,
      "outputs": []
    },
    {
      "cell_type": "code",
      "metadata": {
        "id": "HvSzJvHxZz9b",
        "colab_type": "code",
        "colab": {}
      },
      "source": [
        "%%R\n",
        "\n",
        "ROCRperf = performance(ROCRpred, \"tpr\", \"fpr\")\n",
        "\n",
        "# plot(ROCRperf, main = \"People who prefer warmer\",colorize = TRUE, print.cutoffs.at = seq(0,1,0.1),text.adj = c(-0.2,1.7))\n",
        "cutoffs <- data.frame(cut=ROCRperf@alpha.values[[1]], fpr=ROCRperf@x.values[[1]], tpr=ROCRperf@y.values[[1]])\n",
        "cutoffs <- cutoffs[order(cutoffs$tpr, decreasing=TRUE),]\n",
        "head(subset(cutoffs, tpr <= 0.8))"
      ],
      "execution_count": 0,
      "outputs": []
    },
    {
      "cell_type": "code",
      "metadata": {
        "id": "2fvkFOzzkwaz",
        "colab_type": "code",
        "colab": {}
      },
      "source": [
        "%%R\n",
        "\n",
        "ROCRperf = performance(ROCRpred, \"tpr\", \"fpr\")\n",
        "png(filename=\"warmer.png\", width=500, bg=\"white\")\n",
        "par(mar=c(5,5,5,5)+.1)\n",
        "par(cex.axis=2)\n",
        "plot(ROCRperf, main = \"People who prefer warmer\",colorize = TRUE, text.adj = c(-0.2,1.7),las=1, cex.lab=3, cex.axis=100, cex.main=3, cex.sub=10)\n"
      ],
      "execution_count": 0,
      "outputs": []
    },
    {
      "cell_type": "code",
      "metadata": {
        "id": "lCxgeF6mglRI",
        "colab_type": "code",
        "colab": {}
      },
      "source": [
        "%%R\n",
        "\n",
        "ROCRperf = performance(ROCRpred, \"tpr\", \"fpr\")\n",
        "\n",
        "plot(ROCRperf, las=3, cex.lab=1.5, cex.axis=1.5, cex.main=1.5, cex.sub=1.5\n",
        "     )"
      ],
      "execution_count": 0,
      "outputs": []
    },
    {
      "cell_type": "markdown",
      "metadata": {
        "id": "qhT061C29m9c",
        "colab_type": "text"
      },
      "source": [
        "### End of Prefer Warmer Classifier code"
      ]
    },
    {
      "cell_type": "markdown",
      "metadata": {
        "id": "KT16SPX7Oiq6",
        "colab_type": "text"
      },
      "source": [
        "# End Of TCDBII STUDY"
      ]
    },
    {
      "cell_type": "code",
      "metadata": {
        "id": "EfbvLpZi2XmV",
        "colab_type": "code",
        "colab": {}
      },
      "source": [
        "# %%R\n",
        "\n",
        "# install.packages(\"xgboost\")\n",
        "# install.packages( \"caret\")\n",
        "# install.packages( \"dplyr\")\n",
        "# install.packages( \"Ckmeans.1d.dp\")\n",
        "    \n",
        "# # library(\"xgboost\")  # the main algorithm\n",
        "# # library(\"archdata\") # for the sample dataset\n",
        "# # library(\"caret\")    # for the confusionmatrix() function (also needs e1071 package)\n",
        "# # library(\"dplyr\")    # for some data preperation\n",
        "# # library(\"Ckmeans.1d.dp\") # for xgb.ggplot.importance"
      ],
      "execution_count": 0,
      "outputs": []
    },
    {
      "cell_type": "code",
      "metadata": {
        "id": "VX2VcdBa-sCg",
        "colab_type": "code",
        "colab": {}
      },
      "source": [
        "# %%R\n",
        "# install.packages(\"e1071\")"
      ],
      "execution_count": 0,
      "outputs": []
    },
    {
      "cell_type": "code",
      "metadata": {
        "id": "sIWeTLhW3KwA",
        "colab_type": "code",
        "colab": {}
      },
      "source": [
        "# %%R\n",
        "# library(\"xgboost\")  # the main algorithm\n",
        "# library(\"caret\")    # for the confusionmatrix() function (also needs e1071 package)\n",
        "# library(\"dplyr\")    # for some data preperation\n",
        "# library(\"Ckmeans.1d.dp\") # for xgb.ggplot.importance"
      ],
      "execution_count": 0,
      "outputs": []
    },
    {
      "cell_type": "code",
      "metadata": {
        "id": "Deonact73QOT",
        "colab_type": "code",
        "colab": {}
      },
      "source": [
        "# %%R\n",
        "#  ForML$TCDBII.Thermal.sensation  <- as.numeric( ForML$TCDBII.Thermal.sensation )\n",
        "# ForML$TCDBII.Thermal.sensation = ForML$TCDBII.Thermal.sensation - 1\n",
        "# summary(ForML)"
      ],
      "execution_count": 0,
      "outputs": []
    },
    {
      "cell_type": "code",
      "metadata": {
        "id": "UswgTuwH7ICI",
        "colab_type": "code",
        "colab": {}
      },
      "source": [
        "# %%R\n",
        "# dat = ForML\n",
        "# summary(dat)\n",
        "# ncol(dat)"
      ],
      "execution_count": 0,
      "outputs": []
    },
    {
      "cell_type": "code",
      "metadata": {
        "id": "BNvmnJjl7UHY",
        "colab_type": "code",
        "colab": {}
      },
      "source": [
        "# %%R\n",
        "\n",
        "# # Make split index\n",
        "# train_index <- sample(1:nrow(dat), nrow(dat)*0.75)\n",
        "# # Full data set\n",
        "# data_variables <- as.matrix(dat[,1:6])\n",
        "# data_label <- dat[,7]\n",
        "# data_matrix <- xgb.DMatrix(data = as.matrix(dat), label = data_label)\n",
        "# # split train data and make xgb.DMatrix\n",
        "# train_data   <- data_variables[train_index,]\n",
        "# train_label  <- data_label[train_index]\n",
        "# train_matrix <- xgb.DMatrix(data = train_data, label = train_label)\n",
        "# # split test data and make xgb.DMatrix\n",
        "# test_data  <- data_variables[-train_index,]\n",
        "# test_label <- data_label[-train_index]\n",
        "# test_matrix <- xgb.DMatrix(data = test_data, label = test_label)\n",
        "# # summary(data_label)"
      ],
      "execution_count": 0,
      "outputs": []
    },
    {
      "cell_type": "code",
      "metadata": {
        "id": "yHq_69fu7T4o",
        "colab_type": "code",
        "colab": {}
      },
      "source": [
        "# %%R\n",
        "# numberOfClasses <- length(unique(dat$TCDBII.Thermal.sensation))\n",
        "# xgb_params <- list(\"objective\" = \"multi:softprob\",\n",
        "#                    \"eval_metric\" = \"mlogloss\",\n",
        "#                    \"num_class\" = numberOfClasses)\n",
        "# nround    <- 50 # number of XGBoost rounds\n",
        "# cv.nfold  <- 5\n",
        "\n",
        "# # Fit cv.nfold * cv.nround XGB models and save OOF predictions\n",
        "# cv_model <- xgb.cv(params = xgb_params,\n",
        "#                    data = train_matrix, \n",
        "#                    nrounds = nround,\n",
        "#                    nfold = cv.nfold,\n",
        "#                    verbose = FALSE,\n",
        "#                    prediction = TRUE)"
      ],
      "execution_count": 0,
      "outputs": []
    },
    {
      "cell_type": "code",
      "metadata": {
        "id": "IgwKRZ7S-S5M",
        "colab_type": "code",
        "colab": {}
      },
      "source": [
        "# %%R\n",
        "# OOF_prediction <- data.frame(cv_model$pred) %>%\n",
        "#   mutate(max_prob = max.col(., ties.method = \"last\"),\n",
        "#          label = train_label + 1)\n",
        "# head(OOF_prediction)"
      ],
      "execution_count": 0,
      "outputs": []
    },
    {
      "cell_type": "code",
      "metadata": {
        "id": "ZgPllFMe-YXy",
        "colab_type": "code",
        "colab": {}
      },
      "source": [
        "# %%R\n",
        "# confusionMatrix(factor(OOF_prediction$max_prob),\n",
        "#                 factor(OOF_prediction$label),\n",
        "#                 mode = \"everything\")"
      ],
      "execution_count": 0,
      "outputs": []
    },
    {
      "cell_type": "code",
      "metadata": {
        "id": "5HuMjoH6_YpC",
        "colab_type": "code",
        "colab": {}
      },
      "source": [
        "# %%R\n",
        "# bst_model <- xgb.train(params = xgb_params,\n",
        "#                        data = train_matrix,\n",
        "#                        nrounds = nround)\n",
        "\n",
        "# # Predict hold-out test set\n",
        "# test_pred <- predict(bst_model, newdata = test_matrix)\n",
        "# test_prediction <- matrix(test_pred, nrow = numberOfClasses,\n",
        "#                           ncol=length(test_pred)/numberOfClasses) %>%\n",
        "#   t() %>%\n",
        "#   data.frame() %>%\n",
        "#   mutate(label = test_label + 1,\n",
        "#          max_prob = max.col(., \"last\"))\n",
        "# # confusion matrix of test set\n",
        "# confusionMatrix(factor(test_prediction$max_prob),\n",
        "#                 factor(test_prediction$label),\n",
        "#                 mode = \"everything\")"
      ],
      "execution_count": 0,
      "outputs": []
    },
    {
      "cell_type": "code",
      "metadata": {
        "id": "A7YpbT3w_olM",
        "colab_type": "code",
        "colab": {}
      },
      "source": [
        "# %%R\n",
        "# # get the feature real names\n",
        "# names <-  colnames(dat[,6])\n",
        "# # compute feature importance matrix\n",
        "# importance_matrix = xgb.importance(feature_names = names, model = bst_model)\n",
        "# head(importance_matrix)"
      ],
      "execution_count": 0,
      "outputs": []
    },
    {
      "cell_type": "code",
      "metadata": {
        "id": "qlQudgwQ_z7e",
        "colab_type": "code",
        "colab": {}
      },
      "source": [
        "# %%R\n",
        "# # plot\n",
        "# gp = xgb.ggplot.importance(importance_matrix)\n",
        "# print(gp) "
      ],
      "execution_count": 0,
      "outputs": []
    }
  ]
}