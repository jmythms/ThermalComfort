{
  "nbformat": 4,
  "nbformat_minor": 0,
  "metadata": {
    "colab": {
      "name": "Test for imputation",
      "provenance": [],
      "collapsed_sections": [],
      "toc_visible": true,
      "include_colab_link": true
    },
    "kernelspec": {
      "name": "python3",
      "display_name": "Python 3"
    },
    "accelerator": "GPU"
  },
  "cells": [
    {
      "cell_type": "markdown",
      "metadata": {
        "id": "view-in-github",
        "colab_type": "text"
      },
      "source": [
        "<a href=\"https://colab.research.google.com/github/jmythms/ThermalComfort/blob/master/Test_for_imputation.ipynb\" target=\"_parent\"><img src=\"https://colab.research.google.com/assets/colab-badge.svg\" alt=\"Open In Colab\"/></a>"
      ]
    },
    {
      "cell_type": "markdown",
      "metadata": {
        "id": "vL28sekjLhAs",
        "colab_type": "text"
      },
      "source": [
        "# This notebook is meant to be run on Google Colab. \n",
        "\n",
        "Click on the \"open in Colab\" button if you are in Github. \n",
        "\n",
        "Then upload the DBII.csv. \n",
        "\n",
        "Then press (ctrl/cmd + F9) to run all cells. "
      ]
    },
    {
      "cell_type": "code",
      "metadata": {
        "id": "6j0ba2PQAPgJ",
        "colab_type": "code",
        "outputId": "ce421395-211d-42f3-b593-edfb3aea4591",
        "colab": {
          "base_uri": "https://localhost:8080/",
          "height": 51
        }
      },
      "source": [
        "# activate R magic, Allows using R in the Notebook, put %%R to make that \n",
        "# cell an R script\n",
        "\n",
        "%load_ext rpy2.ipython"
      ],
      "execution_count": 7,
      "outputs": [
        {
          "output_type": "stream",
          "text": [
            "The rpy2.ipython extension is already loaded. To reload it, use:\n",
            "  %reload_ext rpy2.ipython\n"
          ],
          "name": "stdout"
        }
      ]
    },
    {
      "cell_type": "markdown",
      "metadata": {
        "id": "Mu01HdNOdwJB",
        "colab_type": "text"
      },
      "source": [
        "# Logistic regression with the TC DB II"
      ]
    },
    {
      "cell_type": "markdown",
      "metadata": {
        "id": "bW8-pa099jIq",
        "colab_type": "text"
      },
      "source": [
        "## Perfer Cooler Classifier\n",
        "\n",
        "Any comments you find here also apply to the prefer warmer classifier code following this. "
      ]
    },
    {
      "cell_type": "code",
      "metadata": {
        "id": "eO00jrD8udNo",
        "colab_type": "code",
        "colab": {}
      },
      "source": [
        "#Python Imports\n",
        "\n",
        "#It's not great to import everything all the time, as it can make your program slower,\n",
        "#But I don't care much since this system has enough memory, enough CPU power and \n",
        "# I can call all the functions I want without having to import them again. \n",
        "\n",
        "from __future__ import print_function\n",
        "\n",
        "import math\n",
        "\n",
        "from IPython import display\n",
        "from matplotlib import cm\n",
        "from matplotlib import gridspec\n",
        "from matplotlib import pyplot as plt\n",
        "import numpy as np\n",
        "import pandas as pd\n",
        "from sklearn import metrics\n",
        "import tensorflow as tf\n",
        "from tensorflow.python.data import Dataset\n",
        "from sklearn.preprocessing import LabelEncoder, OneHotEncoder\n",
        "from sklearn.linear_model import LogisticRegression\n",
        "from sklearn.model_selection import train_test_split\n",
        "from sklearn import datasets \n",
        "from sklearn.metrics import confusion_matrix \n",
        "from sklearn.model_selection import train_test_split \n",
        "from sklearn.svm import SVC \n",
        "from sklearn.neighbors import KNeighborsClassifier \n",
        "from sklearn.naive_bayes import GaussianNB \n",
        "from sklearn.tree import DecisionTreeClassifier \n",
        "from IPython.core.interactiveshell import InteractiveShell\n",
        "from sklearn.utils.multiclass import unique_labels\n",
        "import matplotlib.ticker as ticker\n",
        "import os, os.path\n",
        "import seaborn as sns\n",
        "import numpy as np\n",
        "# from uncertain_panda import pandas as pd #helps calculate uncertainity in pandas calculations\n",
        "import pandas_profiling as pp\n",
        "from google.colab import files\n",
        "import datetime"
      ],
      "execution_count": 0,
      "outputs": []
    },
    {
      "cell_type": "code",
      "metadata": {
        "id": "nrbeQLnRESob",
        "colab_type": "code",
        "colab": {}
      },
      "source": [
        "# Allows plotting matplotlib plots in the same script\n",
        "\n",
        "%matplotlib inline  \n",
        "pd.set_option('display.max_colwidth', -1)"
      ],
      "execution_count": 0,
      "outputs": []
    },
    {
      "cell_type": "code",
      "metadata": {
        "id": "9yRVKWf1d52Y",
        "colab_type": "code",
        "outputId": "c7b0e6ba-afda-4c3c-fe9e-2fc67f2c4d44",
        "colab": {
          "base_uri": "https://localhost:8080/",
          "height": 1000
        }
      },
      "source": [
        "# Loads the (untouched) TC DB II csv to an R dataframe\n",
        "%%R\n",
        "\n",
        "TCDBII = read.csv(\"DBII.csv\", fileEncoding=\"latin1\")\n",
        "\n",
        "str(TCDBII)  #Gives a small summary of your dataframe"
      ],
      "execution_count": 10,
      "outputs": [
        {
          "output_type": "display_data",
          "data": {
            "text/plain": [
              "'data.frame':\t30286 obs. of  66 variables:\n",
              " $ Publication..Citation.              : Factor w/ 29 levels \"\",\"Andamon, Mary Myla. \\\"Thermal comfort and building energy consumption in the Philippine context.\\\" PLEA 2006-Th\"| __truncated__,..: 20 20 20 20 20 20 20 20 20 20 ...\n",
              " $ Data.contributor                    : Factor w/ 28 levels \"Alison Kwok\",..: 18 18 18 18 18 18 18 18 18 18 ...\n",
              " $ Year                                : int  2000 2000 2000 2000 2000 2000 2000 2000 2000 2000 ...\n",
              " $ Season                              : Factor w/ 5 levels \"\",\"Autumn\",\"Spring\",..: 4 4 4 4 4 4 4 4 4 4 ...\n",
              " $ Climate                             : Factor w/ 15 levels \"Cold semi-arid\",..: 6 6 6 6 6 6 6 6 6 6 ...\n",
              " $ City                                : Factor w/ 45 levels \"Athens\",\"Auburn\",..: 42 42 42 42 42 42 42 42 42 42 ...\n",
              " $ Country                             : Factor w/ 18 levels \"Australia\",\"Brazil\",..: 9 9 9 9 9 9 9 9 9 9 ...\n",
              " $ Building.type                       : Factor w/ 4 levels \"Classroom\",\"Multifamily housing\",..: 1 1 1 1 1 1 1 1 1 1 ...\n",
              " $ Cooling.strategy                    : Factor w/ 1 level \"Air Conditioned\": 1 1 1 1 1 1 1 1 1 1 ...\n",
              " $ Age                                 : int  15 15 15 14 15 14 15 15 14 13 ...\n",
              " $ Sex                                 : Factor w/ 3 levels \"\",\"Female\",\"Male\": 2 2 3 2 3 2 3 2 2 3 ...\n",
              " $ Thermal.sensation                   : num  -0.5 -2.1 0.5 -2.5 -0.5 1 -1 -1.5 -3 NA ...\n",
              " $ Thermal.sensation.acceptability     : int  1 1 1 0 1 1 1 1 0 1 ...\n",
              " $ Thermal.preference                  : Factor w/ 4 levels \"\",\"cooler\",\"no change\",..: 4 3 3 3 3 3 3 3 2 3 ...\n",
              " $ Air.movement.acceptability          : int  1 1 1 1 1 0 1 1 1 1 ...\n",
              " $ Air.movement.preference             : Factor w/ 4 levels \"\",\"less\",\"more\",..: 4 4 3 2 4 4 4 4 4 3 ...\n",
              " $ Thermal.comfort                     : num  5 5 6 4 6 1 5 4 3 5 ...\n",
              " $ PMV                                 : num  NA NA NA NA NA NA NA NA NA NA ...\n",
              " $ PPD                                 : num  NA NA NA NA NA NA NA NA NA NA ...\n",
              " $ SET                                 : num  NA NA NA NA NA NA NA NA NA NA ...\n",
              " $ Clo                                 : num  0.25 0.25 0.27 0.23 0.34 0.23 0.27 0.43 0.3 0.27 ...\n",
              " $ Met                                 : num  NA NA NA NA NA NA NA NA NA NA ...\n",
              " $ activity_10                         : num  NA NA NA NA NA NA NA NA NA NA ...\n",
              " $ activity_20                         : num  NA NA NA NA NA NA NA NA NA NA ...\n",
              " $ acitivity_30                        : num  NA NA NA NA NA NA NA NA NA NA ...\n",
              " $ activity_60                         : num  NA NA NA NA NA NA NA NA NA NA ...\n",
              " $ Air.temperature...C.                : num  24.2 24.2 24.2 24.2 24.2 24.2 24.2 24.2 24.2 24.2 ...\n",
              " $ Air.temperature...F.                : num  75.6 75.6 75.6 75.6 75.6 75.6 75.6 75.6 75.6 75.6 ...\n",
              " $ Ta_h...C.                           : num  24.2 24.2 24.2 24.2 24.2 24.2 24.2 24.2 24.2 24.2 ...\n",
              " $ Ta_h...F.                           : num  75.6 75.6 75.6 75.6 75.6 75.6 75.6 75.6 75.6 75.6 ...\n",
              " $ Ta_m...C.                           : num  NA NA NA NA NA NA NA NA NA NA ...\n",
              " $ Ta_m...F.                           : num  NA NA NA NA NA NA NA NA NA NA ...\n",
              " $ Ta_l...C.                           : num  NA NA NA NA NA NA NA NA NA NA ...\n",
              " $ Ta_l...F.                           : num  NA NA NA NA NA NA NA NA NA NA ...\n",
              " $ Operative.temperature...C.          : num  NA NA NA NA NA NA NA NA NA NA ...\n",
              " $ Operative.temperature...F.          : num  NA NA NA NA NA NA NA NA NA NA ...\n",
              " $ Radiant.temperature...C.            : num  NA NA NA NA NA NA NA NA NA NA ...\n",
              " $ Radiant.temperature...F.            : num  NA NA NA NA NA NA NA NA NA NA ...\n",
              " $ Globe.temperature...C.              : num  24 24 24 24 24 24 24 24 24 24 ...\n",
              " $ Globe.temperature...F.              : num  75.2 75.2 75.2 75.2 75.2 75.2 75.2 75.2 75.2 75.2 ...\n",
              " $ Tg_h...C.                           : num  24 24 24 24 24 24 24 24 24 24 ...\n",
              " $ Tg_h...F.                           : num  75.2 75.2 75.2 75.2 75.2 75.2 75.2 75.2 75.2 75.2 ...\n",
              " $ Tg_m...C.                           : num  NA NA NA NA NA NA NA NA NA NA ...\n",
              " $ Tg_m...F.                           : num  NA NA NA NA NA NA NA NA NA NA ...\n",
              " $ Tg_l...C.                           : num  NA NA NA NA NA NA NA NA NA NA ...\n",
              " $ Tg_l...F.                           : num  NA NA NA NA NA NA NA NA NA NA ...\n",
              " $ Relative.humidity....               : num  50.2 50.2 50.2 50.2 50.2 50.2 50.2 50.2 50.2 50.2 ...\n",
              " $ Humidity.preference                 : Factor w/ 4 levels \"\",\"drier\",\"more humid\",..: 1 1 1 1 1 1 1 1 1 1 ...\n",
              " $ Humidity.sensation                  : int  NA NA NA NA NA NA NA NA NA NA ...\n",
              " $ Air.velocity..m.s.                  : num  0.06 0.06 0.06 0.06 0.06 0.06 0.06 0.06 0.06 0.06 ...\n",
              " $ Air.velocity..fpm.                  : num  11.8 11.8 11.8 11.8 11.8 ...\n",
              " $ Velocity_h..m.s.                    : num  NA NA NA NA NA NA NA NA NA NA ...\n",
              " $ Velocity_h..fpm.                    : num  NA NA NA NA NA NA NA NA NA NA ...\n",
              " $ Velocity_m..m.s.                    : num  NA NA NA NA NA NA NA NA NA NA ...\n",
              " $ Velocity_m..fpm.                    : num  NA NA NA NA NA NA NA NA NA NA ...\n",
              " $ Velocity_l..m.s.                    : num  NA NA NA NA NA NA NA NA NA NA ...\n",
              " $ Velocity_l..fpm.                    : num  NA NA NA NA NA NA NA NA NA NA ...\n",
              " $ Subject.s.height..cm.               : int  162 154 173 167 178 NA 164 150 157 174 ...\n",
              " $ Subject.s.weight..kg.               : int  NA NA NA NA NA NA NA NA NA NA ...\n",
              " $ Blind..curtain.                     : int  NA NA NA NA NA NA NA NA NA NA ...\n",
              " $ Fan                                 : int  NA NA NA NA NA NA NA NA NA NA ...\n",
              " $ Window                              : int  NA NA NA NA NA NA NA NA NA NA ...\n",
              " $ Door                                : int  NA NA NA NA NA NA NA NA NA NA ...\n",
              " $ Heater                              : int  NA NA NA NA NA NA NA NA NA NA ...\n",
              " $ Outdoor.monthly.air.temperature...C.: num  25 25 25 25 25 25 25 25 25 25 ...\n",
              " $ Outdoor.monthly.air.temperature...F.: num  77 77 77 77 77 77 77 77 77 77 ...\n"
            ]
          },
          "metadata": {
            "tags": []
          }
        }
      ]
    },
    {
      "cell_type": "code",
      "metadata": {
        "id": "lG7RJ4QWoTTT",
        "colab_type": "code",
        "outputId": "6570aaba-6418-4fd2-f15e-62de7fc6d23e",
        "colab": {
          "base_uri": "https://localhost:8080/",
          "height": 1000
        }
      },
      "source": [
        "# Remove the rows that have the output variables set to NA or empty cells\n",
        "\n",
        "\n",
        "%%R\n",
        "\n",
        "TCDBII = TCDBII[!is.na(TCDBII$Thermal.sensation.acceptability), ]\n",
        "TCDBII = TCDBII[!is.na(TCDBII$Thermal.preference), ]\n",
        "\n",
        "TCDBII = TCDBII[!(TCDBII$Thermal.sensation.acceptability==\"\"),]\n",
        "TCDBII = TCDBII[!(TCDBII$Thermal.preference==\"\"),]\n",
        "\n",
        "write.csv(TCDBII, file = \"Checkpoint1.csv\") # write the output to a .csv so that Python can read it from here. (Similar to what BEND does.)\n",
        "\n",
        "str(TCDBII)"
      ],
      "execution_count": 11,
      "outputs": [
        {
          "output_type": "display_data",
          "data": {
            "text/plain": [
              "'data.frame':\t17997 obs. of  66 variables:\n",
              " $ Publication..Citation.              : Factor w/ 29 levels \"\",\"Andamon, Mary Myla. \\\"Thermal comfort and building energy consumption in the Philippine context.\\\" PLEA 2006-Th\"| __truncated__,..: 20 20 20 20 20 20 20 20 20 20 ...\n",
              " $ Data.contributor                    : Factor w/ 28 levels \"Alison Kwok\",..: 18 18 18 18 18 18 18 18 18 18 ...\n",
              " $ Year                                : int  2000 2000 2000 2000 2000 2000 2000 2000 2000 2000 ...\n",
              " $ Season                              : Factor w/ 5 levels \"\",\"Autumn\",\"Spring\",..: 4 4 4 4 4 4 4 4 4 4 ...\n",
              " $ Climate                             : Factor w/ 15 levels \"Cold semi-arid\",..: 6 6 6 6 6 6 6 6 6 6 ...\n",
              " $ City                                : Factor w/ 45 levels \"Athens\",\"Auburn\",..: 42 42 42 42 42 42 42 42 42 42 ...\n",
              " $ Country                             : Factor w/ 18 levels \"Australia\",\"Brazil\",..: 9 9 9 9 9 9 9 9 9 9 ...\n",
              " $ Building.type                       : Factor w/ 4 levels \"Classroom\",\"Multifamily housing\",..: 1 1 1 1 1 1 1 1 1 1 ...\n",
              " $ Cooling.strategy                    : Factor w/ 1 level \"Air Conditioned\": 1 1 1 1 1 1 1 1 1 1 ...\n",
              " $ Age                                 : int  15 15 15 14 15 14 15 15 14 13 ...\n",
              " $ Sex                                 : Factor w/ 3 levels \"\",\"Female\",\"Male\": 2 2 3 2 3 2 3 2 2 3 ...\n",
              " $ Thermal.sensation                   : num  -0.5 -2.1 0.5 -2.5 -0.5 1 -1 -1.5 -3 NA ...\n",
              " $ Thermal.sensation.acceptability     : int  1 1 1 0 1 1 1 1 0 1 ...\n",
              " $ Thermal.preference                  : Factor w/ 4 levels \"\",\"cooler\",\"no change\",..: 4 3 3 3 3 3 3 3 2 3 ...\n",
              " $ Air.movement.acceptability          : int  1 1 1 1 1 0 1 1 1 1 ...\n",
              " $ Air.movement.preference             : Factor w/ 4 levels \"\",\"less\",\"more\",..: 4 4 3 2 4 4 4 4 4 3 ...\n",
              " $ Thermal.comfort                     : num  5 5 6 4 6 1 5 4 3 5 ...\n",
              " $ PMV                                 : num  NA NA NA NA NA NA NA NA NA NA ...\n",
              " $ PPD                                 : num  NA NA NA NA NA NA NA NA NA NA ...\n",
              " $ SET                                 : num  NA NA NA NA NA NA NA NA NA NA ...\n",
              " $ Clo                                 : num  0.25 0.25 0.27 0.23 0.34 0.23 0.27 0.43 0.3 0.27 ...\n",
              " $ Met                                 : num  NA NA NA NA NA NA NA NA NA NA ...\n",
              " $ activity_10                         : num  NA NA NA NA NA NA NA NA NA NA ...\n",
              " $ activity_20                         : num  NA NA NA NA NA NA NA NA NA NA ...\n",
              " $ acitivity_30                        : num  NA NA NA NA NA NA NA NA NA NA ...\n",
              " $ activity_60                         : num  NA NA NA NA NA NA NA NA NA NA ...\n",
              " $ Air.temperature...C.                : num  24.2 24.2 24.2 24.2 24.2 24.2 24.2 24.2 24.2 24.2 ...\n",
              " $ Air.temperature...F.                : num  75.6 75.6 75.6 75.6 75.6 75.6 75.6 75.6 75.6 75.6 ...\n",
              " $ Ta_h...C.                           : num  24.2 24.2 24.2 24.2 24.2 24.2 24.2 24.2 24.2 24.2 ...\n",
              " $ Ta_h...F.                           : num  75.6 75.6 75.6 75.6 75.6 75.6 75.6 75.6 75.6 75.6 ...\n",
              " $ Ta_m...C.                           : num  NA NA NA NA NA NA NA NA NA NA ...\n",
              " $ Ta_m...F.                           : num  NA NA NA NA NA NA NA NA NA NA ...\n",
              " $ Ta_l...C.                           : num  NA NA NA NA NA NA NA NA NA NA ...\n",
              " $ Ta_l...F.                           : num  NA NA NA NA NA NA NA NA NA NA ...\n",
              " $ Operative.temperature...C.          : num  NA NA NA NA NA NA NA NA NA NA ...\n",
              " $ Operative.temperature...F.          : num  NA NA NA NA NA NA NA NA NA NA ...\n",
              " $ Radiant.temperature...C.            : num  NA NA NA NA NA NA NA NA NA NA ...\n",
              " $ Radiant.temperature...F.            : num  NA NA NA NA NA NA NA NA NA NA ...\n",
              " $ Globe.temperature...C.              : num  24 24 24 24 24 24 24 24 24 24 ...\n",
              " $ Globe.temperature...F.              : num  75.2 75.2 75.2 75.2 75.2 75.2 75.2 75.2 75.2 75.2 ...\n",
              " $ Tg_h...C.                           : num  24 24 24 24 24 24 24 24 24 24 ...\n",
              " $ Tg_h...F.                           : num  75.2 75.2 75.2 75.2 75.2 75.2 75.2 75.2 75.2 75.2 ...\n",
              " $ Tg_m...C.                           : num  NA NA NA NA NA NA NA NA NA NA ...\n",
              " $ Tg_m...F.                           : num  NA NA NA NA NA NA NA NA NA NA ...\n",
              " $ Tg_l...C.                           : num  NA NA NA NA NA NA NA NA NA NA ...\n",
              " $ Tg_l...F.                           : num  NA NA NA NA NA NA NA NA NA NA ...\n",
              " $ Relative.humidity....               : num  50.2 50.2 50.2 50.2 50.2 50.2 50.2 50.2 50.2 50.2 ...\n",
              " $ Humidity.preference                 : Factor w/ 4 levels \"\",\"drier\",\"more humid\",..: 1 1 1 1 1 1 1 1 1 1 ...\n",
              " $ Humidity.sensation                  : int  NA NA NA NA NA NA NA NA NA NA ...\n",
              " $ Air.velocity..m.s.                  : num  0.06 0.06 0.06 0.06 0.06 0.06 0.06 0.06 0.06 0.06 ...\n",
              " $ Air.velocity..fpm.                  : num  11.8 11.8 11.8 11.8 11.8 ...\n",
              " $ Velocity_h..m.s.                    : num  NA NA NA NA NA NA NA NA NA NA ...\n",
              " $ Velocity_h..fpm.                    : num  NA NA NA NA NA NA NA NA NA NA ...\n",
              " $ Velocity_m..m.s.                    : num  NA NA NA NA NA NA NA NA NA NA ...\n",
              " $ Velocity_m..fpm.                    : num  NA NA NA NA NA NA NA NA NA NA ...\n",
              " $ Velocity_l..m.s.                    : num  NA NA NA NA NA NA NA NA NA NA ...\n",
              " $ Velocity_l..fpm.                    : num  NA NA NA NA NA NA NA NA NA NA ...\n",
              " $ Subject.s.height..cm.               : int  162 154 173 167 178 NA 164 150 157 174 ...\n",
              " $ Subject.s.weight..kg.               : int  NA NA NA NA NA NA NA NA NA NA ...\n",
              " $ Blind..curtain.                     : int  NA NA NA NA NA NA NA NA NA NA ...\n",
              " $ Fan                                 : int  NA NA NA NA NA NA NA NA NA NA ...\n",
              " $ Window                              : int  NA NA NA NA NA NA NA NA NA NA ...\n",
              " $ Door                                : int  NA NA NA NA NA NA NA NA NA NA ...\n",
              " $ Heater                              : int  NA NA NA NA NA NA NA NA NA NA ...\n",
              " $ Outdoor.monthly.air.temperature...C.: num  25 25 25 25 25 25 25 25 25 25 ...\n",
              " $ Outdoor.monthly.air.temperature...F.: num  77 77 77 77 77 77 77 77 77 77 ...\n"
            ]
          },
          "metadata": {
            "tags": []
          }
        }
      ]
    },
    {
      "cell_type": "code",
      "metadata": {
        "id": "xx4z2G02BXPN",
        "colab_type": "code",
        "colab": {}
      },
      "source": [
        "# Need R code here that calculates the percentage of missing data in each variable:\n",
        "%%R\n",
        "\n",
        "db_perc_missing_data = read.csv(\"Checkpoint1.csv\", fileEncoding=\"latin1\")\n",
        "\n",
        "install.packages(\"naniar\")\n",
        "install.packages(\"ggplot2\")\n",
        "\n",
        "library(naniar)\n",
        "library(ggplot2)\n",
        "\n",
        "g <- vis_miss(db_perc_missing_data,\n",
        "         warn_large_data = FALSE)       # Creates the plot for missing data\n",
        "\n",
        "aspect_ratio <- 2.5\n",
        "height <- 7\n",
        "print(g)  # this plots g and the next command saves it\n",
        "ggsave('missing_no.png', height = 7 , width = 7 * aspect_ratio) # Look for missing_no.png on the left pane"
      ],
      "execution_count": 0,
      "outputs": []
    },
    {
      "cell_type": "code",
      "metadata": {
        "id": "gGfWFuhnz0X8",
        "colab_type": "code",
        "colab": {}
      },
      "source": [
        "# Define a python function that tests if a variable is numeric, returns a bool value\n",
        "\n",
        "def testNonNumeric(xNew):\n",
        "  # xNew = float(xNew)\n",
        "  xNew= str(xNew) # Convert to string\n",
        "  try:\n",
        "        float(xNew) # Check if float\n",
        "        return True\n",
        "  except ValueError:\n",
        "        return False\n",
        "\n",
        "testNonNumeric(\"ab\") # This is a test: you can try to put different stuff in the brackets\n"
      ],
      "execution_count": 0,
      "outputs": []
    },
    {
      "cell_type": "code",
      "metadata": {
        "id": "jo9hyD48w3po",
        "colab_type": "code",
        "colab": {}
      },
      "source": [
        "# Reverted to python beccause I am very comfortable in Python and because Colab lets me do it\n",
        "# This cell was written as a test for the imputation\n",
        "\n",
        "TCDBII = pd.read_csv('Checkpoint1.csv') # This reads the 'Checkpoint1.csv' to a pandas dataframe called TCDBII\n",
        "# TCDBII = pd.read_csv('Checkpoint2.csv')  #Uncomment to read the csv that was generated from CHPC, the real imputed data\n",
        "\n",
        "TCDBII = TCDBII[['Thermal.sensation.acceptability',       # This filters the database to only have relavant columns\n",
        "                 'Thermal.preference',\n",
        "                 \"Clo\",\n",
        "                  \"Met\" ,\n",
        "                  \"Air.temperature...C.\",\n",
        "                  \"Radiant.temperature...C.\",\n",
        "                  \"Relative.humidity....\"               ,\n",
        "                  \"Air.velocity..m.s.\"                ,\n",
        "                  \"Climate\"                             ,\n",
        "                  \"Country\" ,\n",
        "                  \"Building.type\"                       ,\n",
        "                  \"Age\"                                 ,\n",
        "                  \"Sex\"                                 ,\n",
        "                  \"Ta_h...C.\"  ,\n",
        "                  \"Ta_m...C.\"                           ,\n",
        "                  \"Ta_l...C.\"                           ,\n",
        "                  \"Globe.temperature...C.\"              ,\n",
        "                  \"Tg_h...C.\"               ,\n",
        "                  \"Tg_m...C.\"                           ,\n",
        "                  \"Tg_l...C.\"                           ,\n",
        "                  \"Velocity_h..m.s.\"                    ,\n",
        "                  \"Velocity_m..m.s.\"                    ,\n",
        "                  \"Velocity_l..m.s.\"                    ,\n",
        "                  \"Subject.s.height..cm.\"               ,\n",
        "                  \"Subject.s.weight..kg.\"               ,\n",
        "                  \"Blind..curtain.\"                     ,\n",
        "                  \"Fan\"                                 ,\n",
        "                  \"Window\"                              ,\n",
        "                  \"Door\"                                ,\n",
        "                  \"Heater\"                              ,\n",
        "                  \"Outdoor.monthly.air.temperature...C.\"]]\n",
        "\n",
        "TCDBII = TCDBII[[                                       # Here we filter the dataframe to only have the variables that are uncommented\n",
        "                 'Thermal.sensation.acceptability',     # This is where we select the variables that go into the imputation test. It was not present in the original study\n",
        "                 'Thermal.preference',\n",
        "                 \"Clo\",\n",
        "                #  \"Air.temperature...C.\",\n",
        "                 \"Air.velocity..m.s.\"                ,\n",
        "                #  \"Tg_h...C.\"               ,\n",
        "\n",
        "                #  \"Clo\" ,\n",
        "                 \"Radiant.temperature...C.\",\n",
        "                #  \"Tg_h...C.\",\n",
        "                 \"Ta_h...C.\",\n",
        "                #  \"Sex\"\n",
        "                 ]]\n",
        "\n",
        "# TCDBII.applymap(testNonNumeric)\n",
        "TCDBII = TCDBII.dropna(axis=0, how= 'any')              # Drop any rows that have na\n",
        "\n",
        "TCDBII.to_csv(\"Checkpoint2.csv\")                   # Write the dataframe to a csv so it can become input for subsequent cells. Also is a checkpoint.\n",
        "\n",
        "# Problem here is the TCDBII dataframe didn't update the R dataframe, so the next cell fixes that\n"
      ],
      "execution_count": 0,
      "outputs": []
    },
    {
      "cell_type": "code",
      "metadata": {
        "id": "E1J6iPgBUx1g",
        "colab_type": "code",
        "colab": {}
      },
      "source": [
        "# This rewrites the R dataframe called TCDBII, reading it from the csv written in the previous cell\n",
        "\n",
        "%%R\n",
        "\n",
        "TCDBII = read.csv(\"Output_from_MICE.csv\")\n",
        "\n",
        "\n",
        "str (TCDBII)"
      ],
      "execution_count": 0,
      "outputs": []
    },
    {
      "cell_type": "code",
      "metadata": {
        "id": "-6VTx4mrf-a1",
        "colab_type": "code",
        "colab": {}
      },
      "source": [
        "# R cell\n",
        "# This cell reads the csv from the last cell \n",
        "# Then drops all OUTPUT (That somehow can be used to predict thermal comfort) variables \n",
        "# This is necessary because we will One-hot encode the categorical variables in the next cell\n",
        "# Many of our output variables are categorical variables and we dont want to one hot encode them\n",
        "# We will deal with these variables separately later and we don't want R/Python/anything_else to mess with this data now. \n",
        "\n",
        "%%R\n",
        "# imputed\n",
        "\n",
        "imputed = read.csv(\"Checkpoint2.csv\")\n",
        "\n",
        "drop <- c(\"TCDBII.Thermal.sensation\",                   # A list of all the variables that can represent thermal comfort, as the variables appear in the dataframe when the TC DBII CSV is read using R\n",
        "          \"Thermal.sensation\",\n",
        "          \"Heater\",\n",
        "          \"Thermal.sensation.acceptability\"     ,\n",
        "          \"Thermal.preference\"                  ,\n",
        "          \"Air.movement.acceptability\"          ,\n",
        "          \"Air.movement.preference\"             ,\n",
        "          \"Thermal.comfort\"                     ,\n",
        "          \"PMV\"                                 ,\n",
        "          \"PPD\"                                 ,\n",
        "          \"SET\"                                 )\n",
        "\n",
        "imputed = imputed[,!(names(imputed) %in% drop)]       # Drop all the columns in the list above\n",
        "\n",
        "str(imputed)\n"
      ],
      "execution_count": 0,
      "outputs": []
    },
    {
      "cell_type": "code",
      "metadata": {
        "id": "GFle494Mt-Ro",
        "colab_type": "code",
        "colab": {}
      },
      "source": [
        "# This cell exists to one hot encode the \"categorical\" or Non numerical variables. \n",
        "# This is effectively useless since variables like Gender (which had text like \"Male\" or \"Female\") don't exist in the workflow anymore\n",
        "\n",
        "\n",
        "%%R\n",
        "# imputed\n",
        "\n",
        "# imputed = read.csv(\"Checkpoint2.csv\")\n",
        "\n",
        "# # drop <- c(\"TCDBII$Thermal.sensation\", \"Heater\",\"Blind..curtain.\")\n",
        "# drop <- c(\"TCDBII.Thermal.sensation\",\n",
        "#           \"Thermal.sensation\",\n",
        "#           \"Heater\",\n",
        "#           \"Thermal.sensation.acceptability\"     ,\n",
        "#           \"Thermal.preference\"                  ,\n",
        "#           \"Air.movement.acceptability\"          ,\n",
        "#           \"Air.movement.preference\"             ,\n",
        "#           \"Thermal.comfort\"                     ,\n",
        "#           \"PMV\"                                 ,\n",
        "#           \"PPD\"                                 ,\n",
        "#           \"SET\"                                 )\n",
        "\n",
        "# imputed = imputed[,!(names(imputed) %in% drop)]\n",
        "\n",
        "install.packages(\"mltools\")\n",
        "library(mltools)\n",
        "library(data.table)                 # Stuff that R needs to make magic that follows \n",
        "\n",
        "imputed = one_hot(as.data.table(imputed, keep.rownames=TRUE), dropCols = TRUE, dropUnusedLevels = FALSE) # This is where the one-hot-encoding happens\n",
        "names(imputed)<-make.names(names(imputed),unique = TRUE)\n",
        "impute<-imputed[ , colSums(is.na(imputed)) == 0]            # I put this everywhere because I am scared of NAs\n",
        "str(imputed)\n",
        "\n",
        "# We add back our output variables(Thermal comfort predictors) to the imputed dataframe\n",
        "\n",
        "imputed <- cbind(imputed, Thermal.acceptability = TCDBII$Thermal.sensation.acceptability)\n",
        "imputed <- cbind(imputed, Thermal.preference =TCDBII$Thermal.preference)\n",
        "\n",
        "str(imputed)"
      ],
      "execution_count": 0,
      "outputs": []
    },
    {
      "cell_type": "code",
      "metadata": {
        "id": "qXVlnDYGy6au",
        "colab_type": "code",
        "colab": {}
      },
      "source": [
        "# Write whatever was done before this into a new csv to be used by R/Python/Anything_else that follows\n",
        "\n",
        "%%R\n",
        "\n",
        "write.csv(imputed, file = \"Checkpoint3.csv\")"
      ],
      "execution_count": 0,
      "outputs": []
    },
    {
      "cell_type": "code",
      "metadata": {
        "id": "-LeCWgd0uQFC",
        "colab_type": "code",
        "colab": {}
      },
      "source": [
        "# This cell processes the TC predictor variables.\n",
        "# A new variable called cooler/warmer is created to replace both Thermal Preference and Thermal Acceptability)\n",
        "# 'cooler'/'warmer' is 1 if the occupant wants to be cooler/warmer and 0 if they want no change\n",
        "\n",
        "# Sadly coming back to Python, because I have done this kind of stuff in Python before, and I am familiar with it. \n",
        "\n",
        "\n",
        "classifier = pd.read_csv(\"Output.csv\")      # Read csv, as always\n",
        "\n",
        "classifier['Thermal.preference'] = classifier['Thermal.preference'].apply(lambda row: 1 if row == 'cooler' else 0)    # Convert TP to 0 or 1 depending if it is supposed to be cooler or warmer\n",
        "# 1 is if  unnacceptable and prefer cooler\n",
        "classifier['cooler'] = np.where((classifier['Thermal.acceptability'] == 0) & (classifier['Thermal.preference'] == 1), 1, 0) # Created a new variable called 'cooler' which is 1 when TP and TA is 1 and 0 in all other cases\n",
        "# Thermal acceptability : If 0, unacceptable\n",
        "classifier = classifier.drop([\"Unnamed: 0\",'rn', 'X'],axis = 'columns')         # Drop all the artifacts that were created from reading between Pandas and R\n",
        "classifier = classifier.drop(['Thermal.acceptability', 'Thermal.preference'], axis=1)     # Drop both the TA and TP columns since we don't need them anymore\n",
        "\n",
        "classifier['cooler'].value_counts()     # Shows the number of 0s and 1s in the cooler column"
      ],
      "execution_count": 0,
      "outputs": []
    },
    {
      "cell_type": "code",
      "metadata": {
        "id": "OkpV0kA9UEpr",
        "colab_type": "code",
        "colab": {}
      },
      "source": [
        "## Dropping highly correlated features\n",
        "\n",
        "# Commented out for the imputation test since I just have 3-4 variables left and I cannot afford to let this code cell take away anymore of my variables. \n",
        "\n",
        "## A lot of my variables are highly correlated. Doesn't matter since everyone's life is messed up somewhere.\n",
        "\n",
        "\n",
        "df = classifier \n",
        "\n",
        "# df = df[['Country_Canada', 'Country_UK', 'Fan', 'Outdoor.monthly.air.temperature...C.']]\n",
        "\n",
        "# Create correlation matrix\n",
        "corr_matrix = df.corr().abs()\n",
        "corr_matrix.to_csv(\"classifierCorrelation.csv\", index=False)        # Checkpoint csv\n",
        "\n",
        "# Select upper triangle of correlation matrix\n",
        "upper = corr_matrix.where(np.triu(np.ones(corr_matrix.shape), k=1).astype(np.bool))     \n",
        "\n",
        "# Find index of feature columns with correlation greater than 0.9\n",
        "to_drop = [column for column in upper.columns if any(upper[column] > 0.9)]    #This makes a list of variables that are too(greater than 0.9) correlated \n",
        "\n",
        "# Drop features \n",
        "# df = df.drop(df[to_drop], axis=1)  # This doesn't happen anymore since I don't want to drop any of the 3 variables I have left\n",
        "\n",
        "\n",
        "print(\"Highly correlated variables being dropped: \", to_drop)\n",
        "\n",
        "classifier = df\n",
        "classifier.to_csv(\"Checkpoint4.csv\", index=False)           # Checkpoint csv"
      ],
      "execution_count": 0,
      "outputs": []
    },
    {
      "cell_type": "code",
      "metadata": {
        "id": "UheyWz-elmya",
        "colab_type": "code",
        "colab": {}
      },
      "source": [
        "forML = pd.read_csv(\"Checkpoint4.csv\")\n",
        "\n",
        "forML=forML.dropna(axis='columns')            # drop all NAs all the time \n",
        "\n",
        "forML.to_csv(\"Checkpoint4.csv\",index=False)\n",
        "\n",
        "# We are moving back to R from this point. "
      ],
      "execution_count": 0,
      "outputs": []
    },
    {
      "cell_type": "code",
      "metadata": {
        "id": "Lw4KQ57g26qu",
        "colab_type": "code",
        "colab": {}
      },
      "source": [
        "# R cell (all cells that have  %%R is an R cell)\n",
        "# This is where the logistic regression happens\n",
        "\n",
        "\n",
        "%%R\n",
        "\n",
        "install.packages(\"caTools\")\n",
        "library(caTools)\n",
        "\n",
        "TCLog = read.csv(\"Checkpoint4.csv\") # Read the csv from the last cells\n",
        "\n",
        "set.seed(1000)                                            # Seed set for reproducibility \n",
        "split = sample.split(TCLog$cooler, SplitRatio = 0.8)      # Split to 8:2 ratio\n",
        "Train = subset(TCLog, split == TRUE)                      # Assign to Train and Test\n",
        "Test = subset(TCLog, split == FALSE)\n",
        "TCLogModel = glm(cooler ~ ., data = Train, family = binomial)   # Model created\n",
        "predictTest = predict(TCLogModel, type = \"response\", newdata = Test)    # Prediction, predicted values using the Test Data and Model is assigned to predictTest\n",
        "\n",
        "summary(TCLogModel)"
      ],
      "execution_count": 0,
      "outputs": []
    },
    {
      "cell_type": "code",
      "metadata": {
        "id": "rQKj9qo8_ix4",
        "colab_type": "code",
        "colab": {}
      },
      "source": [
        "# R Cell\n",
        "# Saves the coefficients to \"Checkpoint5.csv\"\n",
        "\n",
        "%%R\n",
        "\n",
        "write.csv(summary(TCLogModel)$coefficients, file = \"Checkpoint5.csv\")   "
      ],
      "execution_count": 0,
      "outputs": []
    },
    {
      "cell_type": "code",
      "metadata": {
        "id": "AGQq7eTJiAWt",
        "colab_type": "code",
        "colab": {}
      },
      "source": [
        "# CoolerClassifierSummary = pd.read_csv(\"Checkpoint5.csv\")\n",
        "# CoolerClassifierSummary"
      ],
      "execution_count": 0,
      "outputs": []
    },
    {
      "cell_type": "code",
      "metadata": {
        "id": "gCPjivvs_iaq",
        "colab_type": "code",
        "colab": {}
      },
      "source": [
        "# Python cell for making plots\n",
        "# Uses seaborn\n",
        "\n",
        "import pandas as pd\n",
        "import seaborn as sns\n",
        "\n",
        "CoolerClassifierSummary = pd.read_csv(\"Checkpoint5.csv\")\n",
        "CoolerClassifierSummary = CoolerClassifierSummary[CoolerClassifierSummary['Pr(>|z|)'] < 0.1]                # We just need p values less than 0.1\n",
        "CoolerClassifierSummary = CoolerClassifierSummary[CoolerClassifierSummary[\"Unnamed: 0\"] != '(Intercept)']   # We don't want the intercept in the variable list (intercept of the regression line/curve)\n",
        "CoolerClassifierSummary = CoolerClassifierSummary.sort_values(by=[\"Pr(>|z|)\"])                              # Sort by order of significance\n",
        "\n",
        "# CoolerClassifierSummary #Uncomment to take a peek at what is happening\n",
        "\n",
        "sns.set(font_scale=1.75)    \n",
        "\n",
        "g = sns.barplot(x=\"Unnamed: 0\", y=\"Pr(>|z|)\", data=CoolerClassifierSummary,                                 # Create plot\n",
        "                # order='Pr(>|z|)'\n",
        "                )\n",
        "g.set_yscale(\"log\")\n",
        "\n",
        "g.set_xticklabels(g.get_xticklabels(),rotation=90)\n",
        "# labels = ['T_g high', 'Clo', 'T_mrt', 'T_a low', 'T_a high', 'T_a mid', 'Hot summ med', 'T_g low', 'Velocity low', 'Velocity mid', 'Gender', 'Met']\n",
        "# g.set(xticklabels=labels)\n",
        "g.set_xlabel(\"Variable\")\n",
        "g.set_ylabel(\"p-value\")\n",
        "g.set_title('Want Cooler Classifier (Smaller Better)')"
      ],
      "execution_count": 0,
      "outputs": []
    },
    {
      "cell_type": "code",
      "metadata": {
        "id": "OztA56PN-XuQ",
        "colab_type": "code",
        "colab": {}
      },
      "source": [
        "# This was code for calculating the AUC for just the significant variables, when all the TC DBII were used.\n",
        "# This peice of code is useless for now\n",
        "\n",
        "# %%R\n",
        "\n",
        "# toselect.x <- summary(TCLogModel)$coeff[-1,4] < 0.1\n",
        "\n",
        "# # select sig. variables\n",
        "# relevant.x <- names(toselect.x)[toselect.x == TRUE] \n",
        "# relevant.x = Reduce(intersect, list(colnames(Train),relevant.x))\n",
        "\n",
        "# relevant.x = c( \"Clo\", \"Air.temperature...C.\", \"Air.velocity..m.s.\" , \"Tg_h...C.\" )\n",
        "# # formula with only sig variables\n",
        "# sig.formula <- as.formula(paste(\"cooler ~\",paste(relevant.x, collapse= \"+\")))\n",
        "\n",
        "# sig.model <- glm(formula=sig.formula, data = Train, family = binomial)\n",
        "\n",
        "\n",
        "# predictTest = predict(sig.model, type = \"response\", newdata = Test)\n",
        "# table(Test$cooler, predictTest > 0.136)\n",
        "\n",
        "# install.packages(\"ROCR\")\n",
        "# library(ROCR)\n",
        "# ROCRpred = prediction(predictTest, Test$cooler)\n",
        "# as.numeric(performance(ROCRpred, \"auc\")@y.values)\n",
        "\n",
        "\n",
        "# table(Test$cooler, predictTest > 0.136)"
      ],
      "execution_count": 0,
      "outputs": []
    },
    {
      "cell_type": "code",
      "metadata": {
        "id": "yBTq7omHVa_o",
        "colab_type": "code",
        "colab": {}
      },
      "source": [
        "# This is where the AUC value is calculated\n",
        "# A U C #\n",
        "%%R\n",
        "\n",
        "install.packages(\"ROCR\")\n",
        "library(ROCR)\n",
        "\n",
        "ROCRpred = prediction(predictTest, Test$cooler) # Creates a prediction object from the prediction and labels. This is necessary for ROCR package to work\n",
        "as.numeric(performance(ROCRpred, \"auc\")@y.values) # Calculates the AUC (More info: https://cran.r-project.org/web/packages/ROCR/ROCR.pdf)"
      ],
      "execution_count": 0,
      "outputs": []
    },
    {
      "cell_type": "code",
      "metadata": {
        "id": "issSTRqml6gu",
        "colab_type": "code",
        "colab": {}
      },
      "source": [
        "# Calculates the threshold value for 80 percent true prediction rate\n",
        "\n",
        "%%R\n",
        "\n",
        "ROCRperf = performance(ROCRpred, \"tpr\", \"fpr\")\n",
        "\n",
        "# plot(ROCRperf, main = \"People who prefer warmer\",colorize = TRUE, print.cutoffs.at = seq(0,1,0.1),text.adj = c(-0.2,1.7))\n",
        "cutoffs <- data.frame(cut=ROCRperf@alpha.values[[1]], fpr=ROCRperf@x.values[[1]], tpr=ROCRperf@y.values[[1]])\n",
        "\n",
        "cutoffs <- cutoffs[order(cutoffs$tpr, decreasing=TRUE),]\n",
        "\n",
        "cutoffFor80Tpr = head(subset(cutoffs, tpr <= 0.8))[1,1] "
      ],
      "execution_count": 0,
      "outputs": []
    },
    {
      "cell_type": "code",
      "metadata": {
        "id": "1MlmDcQmVaFY",
        "colab_type": "code",
        "colab": {}
      },
      "source": [
        "# This cell is supposed to create the confusion matrix for 80% tpr\n",
        "\n",
        "%%R\n",
        "\n",
        "predictTest = predict(TCLogModel, type = \"response\", newdata = Test)\n",
        "\n",
        "table(Test$cooler, predictTest > cutoffFor80Tpr)"
      ],
      "execution_count": 0,
      "outputs": []
    },
    {
      "cell_type": "code",
      "metadata": {
        "id": "aIs4t9FiV_q3",
        "colab_type": "code",
        "colab": {}
      },
      "source": [
        "# R code for creating a ROC curve. This is not working for me now, and I am not\n",
        "# concerned with fixing it, since an ROC curve is not the purpose of this code.\n",
        "\n",
        "%%R\n",
        "\n",
        "ROCRperf = performance(ROCRpred, \"tpr\", \"fpr\")\n",
        "png(filename=\"cooler.png\", width=500, bg=\"white\")\n",
        "par(mar=c(5,5,5,5)+.1)\n",
        "par(cex.axis=2)\n",
        "plot(ROCRperf, main = \"People who prefer cooler\",colorize = TRUE, text.adj = c(-0.2,1.7),las=1, cex.lab=3, cex.axis=100, cex.main=3, cex.sub=10)"
      ],
      "execution_count": 0,
      "outputs": []
    },
    {
      "cell_type": "markdown",
      "metadata": {
        "id": "sGeOyYHx9RqV",
        "colab_type": "text"
      },
      "source": [
        "### End of prefer cooler classifier code"
      ]
    },
    {
      "cell_type": "code",
      "metadata": {
        "id": "JCfn-Q1_AlFK",
        "colab_type": "code",
        "colab": {}
      },
      "source": [
        "# Put this cell where you want to make colab throw a fit. \n",
        "# Stops the workflow. \n",
        "# Not the best Debugging tool in the world. \n",
        "\n",
        "# Hint: Run all cells after uploading the DBII.csv with (Ctrl/Cmd + F9)\n",
        "\n",
        "Error"
      ],
      "execution_count": 0,
      "outputs": []
    },
    {
      "cell_type": "markdown",
      "metadata": {
        "id": "vHANhI9gW4f7",
        "colab_type": "text"
      },
      "source": [
        "## Prefer Warmer Classifier\n",
        "\n",
        "This is identical code to the cooler classifier, and the comments there apply here as well. "
      ]
    },
    {
      "cell_type": "code",
      "metadata": {
        "id": "c1AldfXwaDgW",
        "colab_type": "code",
        "colab": {}
      },
      "source": [
        "%%R\n",
        "TCDBII = read.csv(\"DBII.csv\", fileEncoding=\"latin1\")\n",
        "\n",
        "TCDBII = TCDBII[!is.na(TCDBII$Thermal.sensation.acceptability), ]\n",
        "TCDBII = TCDBII[!is.na(TCDBII$Thermal.preference), ]\n",
        "\n",
        "TCDBII = TCDBII[!(TCDBII$Thermal.sensation.acceptability==\"\"),]\n",
        "TCDBII = TCDBII[!(TCDBII$Thermal.preference==\"\"),]\n",
        "\n",
        "write.csv(TCDBII, file = \"Checkpoint1.csv\")"
      ],
      "execution_count": 0,
      "outputs": []
    },
    {
      "cell_type": "code",
      "metadata": {
        "id": "NakPBp74aPb7",
        "colab_type": "code",
        "colab": {}
      },
      "source": [
        "TCDBII = pd.read_csv('Checkpoint1.csv')\n",
        "# TCDBII = pd.read_csv('Checkpoint2.csv')\n",
        "\n",
        "TCDBII = TCDBII[['Thermal.sensation.acceptability',\n",
        "                 'Thermal.preference',\n",
        "                 \"Clo\",\n",
        "                  \"Met\" ,\n",
        "                  \"Air.temperature...C.\",\n",
        "                  \"Radiant.temperature...C.\",\n",
        "                  \"Relative.humidity....\"               ,\n",
        "                  \"Air.velocity..m.s.\"                ,\n",
        "                  \"Climate\"                             ,\n",
        "                  \"Country\" ,\n",
        "                  \"Building.type\"                       ,\n",
        "                  \"Age\"                                 ,\n",
        "                  \"Sex\"                                 ,\n",
        "                  \"Ta_h...C.\"  ,\n",
        "                  \"Ta_m...C.\"                           ,\n",
        "                  \"Ta_l...C.\"                           ,\n",
        "                  \"Globe.temperature...C.\"              ,\n",
        "                  \"Tg_h...C.\"               ,\n",
        "                  \"Tg_m...C.\"                           ,\n",
        "                  \"Tg_l...C.\"                           ,\n",
        "                  \"Velocity_h..m.s.\"                    ,\n",
        "                  \"Velocity_m..m.s.\"                    ,\n",
        "                  \"Velocity_l..m.s.\"                    ,\n",
        "                  \"Subject.s.height..cm.\"               ,\n",
        "                  \"Subject.s.weight..kg.\"               ,\n",
        "                  \"Blind..curtain.\"                     ,\n",
        "                  \"Fan\"                                 ,\n",
        "                  \"Window\"                              ,\n",
        "                  \"Door\"                                ,\n",
        "                  \"Heater\"                              ,\n",
        "                  \"Outdoor.monthly.air.temperature...C.\"]]\n",
        "\n",
        "\n",
        "# TCDBII.columns = [\n",
        "#                   'Thermal sensation acceptability', 'Thermal preference',\n",
        "#                   \"Clothing Insulation\",\n",
        "#     \"Metabolic Rate\",\n",
        "#     \"Air temperature [°C]\",\n",
        "#     \"Radiant temperature [°C]\",\n",
        "#     \"Relative humidity\",\n",
        "#     \"Air velocity [m/s]\",\n",
        "#     \"Climate\",\n",
        "#     \"Country\",\n",
        "#     \"Building type\",\n",
        "#      \"Age\"  ,\n",
        "#     \"Sex\",\n",
        "#     \"Ta_h [°C]\",\n",
        "#     \"Ta_m [°C]\",\n",
        "#     \"Ta_l [°C]\",\n",
        "#     \"Globe temperature [°C]\",\n",
        "#     \"Tg_h [°C]\",\n",
        "#     \"Tg_m [°C]\",\n",
        "#     \"Tg_l [°C]\",\n",
        "#     \"Velocity_h [m/s]\",\n",
        "#     \"Velocity_m [m/s]\",\n",
        "#     \"Velocity_l [m/s]\" ,\n",
        "#     \"Subject's weight [kg]\",\n",
        "#     \"Subject's height [cm]\" ,\n",
        "#     \"Blind/curtain\",\n",
        "#     \"Fan\",\n",
        "#     \"Window\",\n",
        "#     \"Door\",\n",
        "#     \"Heater\" ,\n",
        "#     \"Outdoor monthly air temperature [°C]\"\n",
        "# ]\n",
        "\n",
        "TCDBII = TCDBII[[\n",
        "                 'Thermal.sensation.acceptability',\n",
        "                 'Thermal.preference',\n",
        "                 \"Clo\",\n",
        "                #  \"Air.temperature...C.\",\n",
        "                 \"Air.velocity..m.s.\"                ,\n",
        "                #  \"Tg_h...C.\"               ,\n",
        "\n",
        "                #  \"Clo\" ,\n",
        "                 \"Radiant.temperature...C.\",\n",
        "                #  \"Tg_h...C.\",\n",
        "                 \"Ta_h...C.\",\n",
        "                #  \"Sex\"\n",
        "                 ]]\n",
        "\n",
        "# TCDBII.applymap(testNonNumeric)\n",
        "TCDBII = TCDBII.dropna(axis=0, how= 'any')\n",
        "TCDBII.to_csv(\"Checkpoint2.csv\")\n"
      ],
      "execution_count": 0,
      "outputs": []
    },
    {
      "cell_type": "code",
      "metadata": {
        "id": "EifGeSnXaQ8m",
        "colab_type": "code",
        "colab": {}
      },
      "source": [
        "%%R\n",
        "# This cell exists because the last cell read/wrote to a Python variable but R was not updated\n",
        "\n",
        "TCDBII = read.csv(\"Checkpoint2.csv\")"
      ],
      "execution_count": 0,
      "outputs": []
    },
    {
      "cell_type": "code",
      "metadata": {
        "id": "yjF6bkwZaiI0",
        "colab_type": "code",
        "colab": {}
      },
      "source": [
        "%%R\n",
        "# imputed\n",
        "\n",
        "imputed = read.csv(\"Checkpoint2.csv\")\n",
        "\n",
        "drop <- c(\"TCDBII.Thermal.sensation\",\n",
        "          \"Thermal.sensation\",\n",
        "          \"Heater\",\n",
        "          \"Thermal.sensation.acceptability\"     ,\n",
        "          \"Thermal.preference\"                  ,\n",
        "          \"Air.movement.acceptability\"          ,\n",
        "          \"Air.movement.preference\"             ,\n",
        "          \"Thermal.comfort\"                     ,\n",
        "          \"PMV\"                                 ,\n",
        "          \"PPD\"                                 ,\n",
        "          \"SET\"                                 )\n",
        "\n",
        "imputed = imputed[,!(names(imputed) %in% drop)]\n",
        "\n",
        "str(imputed)\n"
      ],
      "execution_count": 0,
      "outputs": []
    },
    {
      "cell_type": "code",
      "metadata": {
        "id": "L_hpZt9WapOF",
        "colab_type": "code",
        "colab": {}
      },
      "source": [
        "%%R\n",
        "# imputed\n",
        "\n",
        "imputed = read.csv(\"Checkpoint2.csv\")\n",
        "\n",
        "# drop <- c(\"TCDBII$Thermal.sensation\", \"Heater\",\"Blind..curtain.\")\n",
        "drop <- c(\"TCDBII.Thermal.sensation\",\n",
        "          \"Thermal.sensation\",\n",
        "          \"Heater\",\n",
        "          \"Thermal.sensation.acceptability\"     ,\n",
        "          \"Thermal.preference\"                  ,\n",
        "          \"Air.movement.acceptability\"          ,\n",
        "          \"Air.movement.preference\"             ,\n",
        "          \"Thermal.comfort\"                     ,\n",
        "          \"PMV\"                                 ,\n",
        "          \"PPD\"                                 ,\n",
        "          \"SET\"                                 )\n",
        "\n",
        "imputed = imputed[,!(names(imputed) %in% drop)]\n",
        "\n",
        "install.packages(\"mltools\")\n",
        "library(mltools)\n",
        "library(data.table)\n",
        "\n",
        "imputed = one_hot(as.data.table(imputed, keep.rownames=TRUE), dropCols = TRUE, dropUnusedLevels = FALSE)\n",
        "names(imputed)<-make.names(names(imputed),unique = TRUE)\n",
        "impute<-imputed[ , colSums(is.na(imputed)) == 0]\n",
        "str(imputed)\n",
        "\n",
        "imputed <- cbind(imputed, Thermal.acceptability = TCDBII$Thermal.sensation.acceptability)\n",
        "imputed <- cbind(imputed, Thermal.preference =TCDBII$Thermal.preference)\n",
        "\n",
        "colnames(imputed)\n",
        "\n",
        "str(imputed)"
      ],
      "execution_count": 0,
      "outputs": []
    },
    {
      "cell_type": "code",
      "metadata": {
        "id": "vJZp0wAZasZc",
        "colab_type": "code",
        "colab": {}
      },
      "source": [
        "%%R\n",
        "\n",
        "write.csv(imputed, file = \"Checkpoint3.csv\")"
      ],
      "execution_count": 0,
      "outputs": []
    },
    {
      "cell_type": "code",
      "metadata": {
        "id": "XT4vP9TiYRdB",
        "colab_type": "code",
        "colab": {}
      },
      "source": [
        "classifier = pd.read_csv(\"Checkpoint3.csv\")\n",
        "classifier['Thermal.preference'] = classifier['Thermal.preference'].apply(lambda row: 1 if row == 'warmer' else 0)\n",
        "# 1 is if  unnacceptable and prefer warmer\n",
        "classifier['warmer'] = np.where((classifier['Thermal.acceptability'] == 0) & (classifier['Thermal.preference'] == 1), 1, 0)\n",
        "# Thermal acceptability : If 0, unacceptable\n",
        "classifier = classifier.drop([\"Unnamed: 0\",'rn', 'X'],axis = 'columns')\n",
        "classifier = classifier.drop(['Thermal.acceptability', 'Thermal.preference'], axis=1)\n",
        "\n",
        "classifier['warmer'].value_counts()"
      ],
      "execution_count": 0,
      "outputs": []
    },
    {
      "cell_type": "code",
      "metadata": {
        "id": "pFZBBfB-Y_DU",
        "colab_type": "code",
        "colab": {}
      },
      "source": [
        "classifier"
      ],
      "execution_count": 0,
      "outputs": []
    },
    {
      "cell_type": "code",
      "metadata": {
        "id": "xgTf1ssEZCGR",
        "colab_type": "code",
        "colab": {}
      },
      "source": [
        "## Dropping highly correlated features\n",
        "\n",
        "df = classifier\n",
        "\n",
        "# Create correlation matrix\n",
        "corr_matrix = df.corr().abs()\n",
        "corr_matrix.to_csv(\"warmerclassifierCorrelation.csv\", index=False)\n",
        "\n",
        "# Select upper triangle of correlation matrix\n",
        "upper = corr_matrix.where(np.triu(np.ones(corr_matrix.shape), k=1).astype(np.bool))\n",
        "\n",
        "# Find index of feature columns with correlation greater than 0.9\n",
        "to_drop = [column for column in upper.columns if any(upper[column] > 0.9)]\n",
        "\n",
        "print(corr_matrix)\n",
        "\n",
        "# Drop features \n",
        "df = df.drop(df[to_drop], axis=1)\n",
        "\n",
        "print(\"Highly correlated variables being dropped: \", to_drop)\n",
        "\n",
        "classifier = df\n",
        "classifier.to_csv(\"Checkpoint4.csv\", index=False)"
      ],
      "execution_count": 0,
      "outputs": []
    },
    {
      "cell_type": "code",
      "metadata": {
        "id": "s6wSLLynp4BR",
        "colab_type": "code",
        "colab": {}
      },
      "source": [
        "forML = pd.read_csv(\"Checkpoint4.csv\")\n",
        "forML=forML.dropna(axis='columns')\n",
        "forML.to_csv(\"Checkpoint4.csv\",index=False)"
      ],
      "execution_count": 0,
      "outputs": []
    },
    {
      "cell_type": "code",
      "metadata": {
        "id": "n9HCWuWPcX90",
        "colab_type": "code",
        "colab": {}
      },
      "source": [
        "test = pd.read_csv(\"Checkpoint4.csv\")\n",
        "\n",
        "test['warmer'].value_counts()"
      ],
      "execution_count": 0,
      "outputs": []
    },
    {
      "cell_type": "code",
      "metadata": {
        "id": "z_weFyzPZNjs",
        "colab_type": "code",
        "colab": {}
      },
      "source": [
        "%%R\n",
        "\n",
        "TCLog = read.csv(\"Checkpoint4.csv\")\n",
        "install.packages(\"caTools\")\n",
        "library(caTools)\n",
        "set.seed(1000)\n",
        "split = sample.split(TCLog$warmer, SplitRatio = 0.8)\n",
        "Train = subset(TCLog, split == TRUE)\n",
        "Test = subset(TCLog, split == FALSE)\n",
        "TCLogModel = glm(warmer ~ ., data = Train, family = binomial)\n",
        "\n",
        "predictTest = predict(TCLogModel, type = \"response\", newdata = Test)\n",
        "\n",
        "summary(TCLogModel)"
      ],
      "execution_count": 0,
      "outputs": []
    },
    {
      "cell_type": "code",
      "metadata": {
        "id": "KSFadayO4_GK",
        "colab_type": "code",
        "colab": {}
      },
      "source": [
        "%%R\n",
        "\n",
        "write.csv(summary(TCLogModel)$coefficients, file = \"WarmerClassifierSummary.csv\")"
      ],
      "execution_count": 0,
      "outputs": []
    },
    {
      "cell_type": "code",
      "metadata": {
        "id": "_Tr1B4O5bz5s",
        "colab_type": "code",
        "colab": {}
      },
      "source": [
        "%%R\n",
        "install.packages(\"ROCR\")\n",
        "library(ROCR)\n",
        "ROCRpred = prediction(predictTest, Test$warmer)\n",
        "as.numeric(performance(ROCRpred, \"auc\")@y.values)"
      ],
      "execution_count": 0,
      "outputs": []
    },
    {
      "cell_type": "code",
      "metadata": {
        "id": "GGiL4Cryb9JB",
        "colab_type": "code",
        "colab": {}
      },
      "source": [
        "Error"
      ],
      "execution_count": 0,
      "outputs": []
    },
    {
      "cell_type": "code",
      "metadata": {
        "id": "T3ERCR6xR5ag",
        "colab_type": "code",
        "colab": {}
      },
      "source": [
        "%%R\n",
        "\n",
        "ROCRpred = prediction(predictTest, Test$warmer)\n",
        "ROCRperf = performance(ROCRpred, \"tpr\", \"fpr\")\n",
        "\n",
        "# plot(ROCRperf, main = \"People who prefer warmer\",colorize = TRUE, print.cutoffs.at = seq(0,1,0.1),text.adj = c(-0.2,1.7))\n",
        "cutoffs <- data.frame(cut=ROCRperf@alpha.values[[1]], fpr=ROCRperf@x.values[[1]], tpr=ROCRperf@y.values[[1]])\n",
        "cutoffs <- cutoffs[order(cutoffs$tpr, decreasing=TRUE),]\n",
        "head(subset(cutoffs, tpr <= 0.8))"
      ],
      "execution_count": 0,
      "outputs": []
    },
    {
      "cell_type": "code",
      "metadata": {
        "id": "G_I9_qsA_xHs",
        "colab_type": "code",
        "colab": {}
      },
      "source": [
        "%%R\n",
        "relevant.x"
      ],
      "execution_count": 0,
      "outputs": []
    },
    {
      "cell_type": "code",
      "metadata": {
        "id": "5axHPDmWZcWa",
        "colab_type": "code",
        "colab": {}
      },
      "source": [
        "%%R\n",
        "predictTest = predict(TCLogModel, type = \"response\", newdata = Test)\n",
        "recast_data = table(Test$warmer, predictTest > 0.093)\n",
        "# fwrite(recast_data, \"recast_data.csv\")\n",
        "recast_data"
      ],
      "execution_count": 0,
      "outputs": []
    },
    {
      "cell_type": "code",
      "metadata": {
        "id": "qyqyG8HbZstN",
        "colab_type": "code",
        "colab": {}
      },
      "source": [
        "%%R\n",
        "install.packages(\"ROCR\")\n",
        "library(ROCR)\n",
        "ROCRpred = prediction(predictTest, Test$warmer)\n",
        "as.numeric(performance(ROCRpred, \"auc\")@y.values)"
      ],
      "execution_count": 0,
      "outputs": []
    },
    {
      "cell_type": "code",
      "metadata": {
        "id": "HvSzJvHxZz9b",
        "colab_type": "code",
        "colab": {}
      },
      "source": [
        "%%R\n",
        "\n",
        "ROCRperf = performance(ROCRpred, \"tpr\", \"fpr\")\n",
        "\n",
        "# plot(ROCRperf, main = \"People who prefer warmer\",colorize = TRUE, print.cutoffs.at = seq(0,1,0.1),text.adj = c(-0.2,1.7))\n",
        "cutoffs <- data.frame(cut=ROCRperf@alpha.values[[1]], fpr=ROCRperf@x.values[[1]], tpr=ROCRperf@y.values[[1]])\n",
        "cutoffs <- cutoffs[order(cutoffs$tpr, decreasing=TRUE),]\n",
        "head(subset(cutoffs, tpr <= 0.8))"
      ],
      "execution_count": 0,
      "outputs": []
    },
    {
      "cell_type": "code",
      "metadata": {
        "id": "2fvkFOzzkwaz",
        "colab_type": "code",
        "colab": {}
      },
      "source": [
        "%%R\n",
        "\n",
        "ROCRperf = performance(ROCRpred, \"tpr\", \"fpr\")\n",
        "png(filename=\"warmer.png\", width=500, bg=\"white\")\n",
        "par(mar=c(5,5,5,5)+.1)\n",
        "par(cex.axis=2)\n",
        "plot(ROCRperf, main = \"People who prefer warmer\",colorize = TRUE, text.adj = c(-0.2,1.7),las=1, cex.lab=3, cex.axis=100, cex.main=3, cex.sub=10)\n"
      ],
      "execution_count": 0,
      "outputs": []
    },
    {
      "cell_type": "code",
      "metadata": {
        "id": "lCxgeF6mglRI",
        "colab_type": "code",
        "colab": {}
      },
      "source": [
        "%%R\n",
        "\n",
        "ROCRperf = performance(ROCRpred, \"tpr\", \"fpr\")\n",
        "\n",
        "plot(ROCRperf, las=3, cex.lab=1.5, cex.axis=1.5, cex.main=1.5, cex.sub=1.5\n",
        "     )"
      ],
      "execution_count": 0,
      "outputs": []
    },
    {
      "cell_type": "markdown",
      "metadata": {
        "id": "qhT061C29m9c",
        "colab_type": "text"
      },
      "source": [
        "### End of Prefer Warmer Classifier code"
      ]
    },
    {
      "cell_type": "markdown",
      "metadata": {
        "id": "KT16SPX7Oiq6",
        "colab_type": "text"
      },
      "source": [
        "# End Of TCDBII STUDY"
      ]
    },
    {
      "cell_type": "code",
      "metadata": {
        "id": "EfbvLpZi2XmV",
        "colab_type": "code",
        "colab": {}
      },
      "source": [
        "# %%R\n",
        "\n",
        "# install.packages(\"xgboost\")\n",
        "# install.packages( \"caret\")\n",
        "# install.packages( \"dplyr\")\n",
        "# install.packages( \"Ckmeans.1d.dp\")\n",
        "    \n",
        "# # library(\"xgboost\")  # the main algorithm\n",
        "# # library(\"archdata\") # for the sample dataset\n",
        "# # library(\"caret\")    # for the confusionmatrix() function (also needs e1071 package)\n",
        "# # library(\"dplyr\")    # for some data preperation\n",
        "# # library(\"Ckmeans.1d.dp\") # for xgb.ggplot.importance"
      ],
      "execution_count": 0,
      "outputs": []
    },
    {
      "cell_type": "code",
      "metadata": {
        "id": "VX2VcdBa-sCg",
        "colab_type": "code",
        "colab": {}
      },
      "source": [
        "# %%R\n",
        "# install.packages(\"e1071\")"
      ],
      "execution_count": 0,
      "outputs": []
    },
    {
      "cell_type": "code",
      "metadata": {
        "id": "sIWeTLhW3KwA",
        "colab_type": "code",
        "colab": {}
      },
      "source": [
        "# %%R\n",
        "# library(\"xgboost\")  # the main algorithm\n",
        "# library(\"caret\")    # for the confusionmatrix() function (also needs e1071 package)\n",
        "# library(\"dplyr\")    # for some data preperation\n",
        "# library(\"Ckmeans.1d.dp\") # for xgb.ggplot.importance"
      ],
      "execution_count": 0,
      "outputs": []
    },
    {
      "cell_type": "code",
      "metadata": {
        "id": "Deonact73QOT",
        "colab_type": "code",
        "colab": {}
      },
      "source": [
        "# %%R\n",
        "#  ForML$TCDBII.Thermal.sensation  <- as.numeric( ForML$TCDBII.Thermal.sensation )\n",
        "# ForML$TCDBII.Thermal.sensation = ForML$TCDBII.Thermal.sensation - 1\n",
        "# summary(ForML)"
      ],
      "execution_count": 0,
      "outputs": []
    },
    {
      "cell_type": "code",
      "metadata": {
        "id": "UswgTuwH7ICI",
        "colab_type": "code",
        "colab": {}
      },
      "source": [
        "# %%R\n",
        "# dat = ForML\n",
        "# summary(dat)\n",
        "# ncol(dat)"
      ],
      "execution_count": 0,
      "outputs": []
    },
    {
      "cell_type": "code",
      "metadata": {
        "id": "BNvmnJjl7UHY",
        "colab_type": "code",
        "colab": {}
      },
      "source": [
        "# %%R\n",
        "\n",
        "# # Make split index\n",
        "# train_index <- sample(1:nrow(dat), nrow(dat)*0.75)\n",
        "# # Full data set\n",
        "# data_variables <- as.matrix(dat[,1:6])\n",
        "# data_label <- dat[,7]\n",
        "# data_matrix <- xgb.DMatrix(data = as.matrix(dat), label = data_label)\n",
        "# # split train data and make xgb.DMatrix\n",
        "# train_data   <- data_variables[train_index,]\n",
        "# train_label  <- data_label[train_index]\n",
        "# train_matrix <- xgb.DMatrix(data = train_data, label = train_label)\n",
        "# # split test data and make xgb.DMatrix\n",
        "# test_data  <- data_variables[-train_index,]\n",
        "# test_label <- data_label[-train_index]\n",
        "# test_matrix <- xgb.DMatrix(data = test_data, label = test_label)\n",
        "# # summary(data_label)"
      ],
      "execution_count": 0,
      "outputs": []
    },
    {
      "cell_type": "code",
      "metadata": {
        "id": "yHq_69fu7T4o",
        "colab_type": "code",
        "colab": {}
      },
      "source": [
        "# %%R\n",
        "# numberOfClasses <- length(unique(dat$TCDBII.Thermal.sensation))\n",
        "# xgb_params <- list(\"objective\" = \"multi:softprob\",\n",
        "#                    \"eval_metric\" = \"mlogloss\",\n",
        "#                    \"num_class\" = numberOfClasses)\n",
        "# nround    <- 50 # number of XGBoost rounds\n",
        "# cv.nfold  <- 5\n",
        "\n",
        "# # Fit cv.nfold * cv.nround XGB models and save OOF predictions\n",
        "# cv_model <- xgb.cv(params = xgb_params,\n",
        "#                    data = train_matrix, \n",
        "#                    nrounds = nround,\n",
        "#                    nfold = cv.nfold,\n",
        "#                    verbose = FALSE,\n",
        "#                    prediction = TRUE)"
      ],
      "execution_count": 0,
      "outputs": []
    },
    {
      "cell_type": "code",
      "metadata": {
        "id": "IgwKRZ7S-S5M",
        "colab_type": "code",
        "colab": {}
      },
      "source": [
        "# %%R\n",
        "# OOF_prediction <- data.frame(cv_model$pred) %>%\n",
        "#   mutate(max_prob = max.col(., ties.method = \"last\"),\n",
        "#          label = train_label + 1)\n",
        "# head(OOF_prediction)"
      ],
      "execution_count": 0,
      "outputs": []
    },
    {
      "cell_type": "code",
      "metadata": {
        "id": "ZgPllFMe-YXy",
        "colab_type": "code",
        "colab": {}
      },
      "source": [
        "# %%R\n",
        "# confusionMatrix(factor(OOF_prediction$max_prob),\n",
        "#                 factor(OOF_prediction$label),\n",
        "#                 mode = \"everything\")"
      ],
      "execution_count": 0,
      "outputs": []
    },
    {
      "cell_type": "code",
      "metadata": {
        "id": "5HuMjoH6_YpC",
        "colab_type": "code",
        "colab": {}
      },
      "source": [
        "# %%R\n",
        "# bst_model <- xgb.train(params = xgb_params,\n",
        "#                        data = train_matrix,\n",
        "#                        nrounds = nround)\n",
        "\n",
        "# # Predict hold-out test set\n",
        "# test_pred <- predict(bst_model, newdata = test_matrix)\n",
        "# test_prediction <- matrix(test_pred, nrow = numberOfClasses,\n",
        "#                           ncol=length(test_pred)/numberOfClasses) %>%\n",
        "#   t() %>%\n",
        "#   data.frame() %>%\n",
        "#   mutate(label = test_label + 1,\n",
        "#          max_prob = max.col(., \"last\"))\n",
        "# # confusion matrix of test set\n",
        "# confusionMatrix(factor(test_prediction$max_prob),\n",
        "#                 factor(test_prediction$label),\n",
        "#                 mode = \"everything\")"
      ],
      "execution_count": 0,
      "outputs": []
    },
    {
      "cell_type": "code",
      "metadata": {
        "id": "A7YpbT3w_olM",
        "colab_type": "code",
        "colab": {}
      },
      "source": [
        "# %%R\n",
        "# # get the feature real names\n",
        "# names <-  colnames(dat[,6])\n",
        "# # compute feature importance matrix\n",
        "# importance_matrix = xgb.importance(feature_names = names, model = bst_model)\n",
        "# head(importance_matrix)"
      ],
      "execution_count": 0,
      "outputs": []
    },
    {
      "cell_type": "code",
      "metadata": {
        "id": "qlQudgwQ_z7e",
        "colab_type": "code",
        "colab": {}
      },
      "source": [
        "# %%R\n",
        "# # plot\n",
        "# gp = xgb.ggplot.importance(importance_matrix)\n",
        "# print(gp) "
      ],
      "execution_count": 0,
      "outputs": []
    }
  ]
}